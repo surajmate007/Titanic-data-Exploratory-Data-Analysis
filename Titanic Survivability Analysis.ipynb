{
 "cells": [
  {
   "cell_type": "code",
   "execution_count": 265,
   "metadata": {},
   "outputs": [],
   "source": [
    "import pandas as pd\n",
    "import numpy as np\n",
    "import matplotlib.pyplot as plt\n",
    "import seaborn as sns\n",
    "%matplotlib inline"
   ]
  },
  {
   "cell_type": "code",
   "execution_count": 266,
   "metadata": {},
   "outputs": [],
   "source": [
    "titanic = pd.read_csv(\"train.csv\")"
   ]
  },
  {
   "cell_type": "code",
   "execution_count": 267,
   "metadata": {},
   "outputs": [
    {
     "data": {
      "text/html": [
       "<div>\n",
       "<style scoped>\n",
       "    .dataframe tbody tr th:only-of-type {\n",
       "        vertical-align: middle;\n",
       "    }\n",
       "\n",
       "    .dataframe tbody tr th {\n",
       "        vertical-align: top;\n",
       "    }\n",
       "\n",
       "    .dataframe thead th {\n",
       "        text-align: right;\n",
       "    }\n",
       "</style>\n",
       "<table border=\"1\" class=\"dataframe\">\n",
       "  <thead>\n",
       "    <tr style=\"text-align: right;\">\n",
       "      <th></th>\n",
       "      <th>PassengerId</th>\n",
       "      <th>Survived</th>\n",
       "      <th>Pclass</th>\n",
       "      <th>Name</th>\n",
       "      <th>Sex</th>\n",
       "      <th>Age</th>\n",
       "      <th>SibSp</th>\n",
       "      <th>Parch</th>\n",
       "      <th>Ticket</th>\n",
       "      <th>Fare</th>\n",
       "      <th>Cabin</th>\n",
       "      <th>Embarked</th>\n",
       "    </tr>\n",
       "  </thead>\n",
       "  <tbody>\n",
       "    <tr>\n",
       "      <th>0</th>\n",
       "      <td>1</td>\n",
       "      <td>0</td>\n",
       "      <td>3</td>\n",
       "      <td>Braund, Mr. Owen Harris</td>\n",
       "      <td>male</td>\n",
       "      <td>22.0</td>\n",
       "      <td>1</td>\n",
       "      <td>0</td>\n",
       "      <td>A/5 21171</td>\n",
       "      <td>7.2500</td>\n",
       "      <td>NaN</td>\n",
       "      <td>S</td>\n",
       "    </tr>\n",
       "    <tr>\n",
       "      <th>1</th>\n",
       "      <td>2</td>\n",
       "      <td>1</td>\n",
       "      <td>1</td>\n",
       "      <td>Cumings, Mrs. John Bradley (Florence Briggs Th...</td>\n",
       "      <td>female</td>\n",
       "      <td>38.0</td>\n",
       "      <td>1</td>\n",
       "      <td>0</td>\n",
       "      <td>PC 17599</td>\n",
       "      <td>71.2833</td>\n",
       "      <td>C85</td>\n",
       "      <td>C</td>\n",
       "    </tr>\n",
       "    <tr>\n",
       "      <th>2</th>\n",
       "      <td>3</td>\n",
       "      <td>1</td>\n",
       "      <td>3</td>\n",
       "      <td>Heikkinen, Miss. Laina</td>\n",
       "      <td>female</td>\n",
       "      <td>26.0</td>\n",
       "      <td>0</td>\n",
       "      <td>0</td>\n",
       "      <td>STON/O2. 3101282</td>\n",
       "      <td>7.9250</td>\n",
       "      <td>NaN</td>\n",
       "      <td>S</td>\n",
       "    </tr>\n",
       "    <tr>\n",
       "      <th>3</th>\n",
       "      <td>4</td>\n",
       "      <td>1</td>\n",
       "      <td>1</td>\n",
       "      <td>Futrelle, Mrs. Jacques Heath (Lily May Peel)</td>\n",
       "      <td>female</td>\n",
       "      <td>35.0</td>\n",
       "      <td>1</td>\n",
       "      <td>0</td>\n",
       "      <td>113803</td>\n",
       "      <td>53.1000</td>\n",
       "      <td>C123</td>\n",
       "      <td>S</td>\n",
       "    </tr>\n",
       "    <tr>\n",
       "      <th>4</th>\n",
       "      <td>5</td>\n",
       "      <td>0</td>\n",
       "      <td>3</td>\n",
       "      <td>Allen, Mr. William Henry</td>\n",
       "      <td>male</td>\n",
       "      <td>35.0</td>\n",
       "      <td>0</td>\n",
       "      <td>0</td>\n",
       "      <td>373450</td>\n",
       "      <td>8.0500</td>\n",
       "      <td>NaN</td>\n",
       "      <td>S</td>\n",
       "    </tr>\n",
       "  </tbody>\n",
       "</table>\n",
       "</div>"
      ],
      "text/plain": [
       "   PassengerId  Survived  Pclass  \\\n",
       "0            1         0       3   \n",
       "1            2         1       1   \n",
       "2            3         1       3   \n",
       "3            4         1       1   \n",
       "4            5         0       3   \n",
       "\n",
       "                                                Name     Sex   Age  SibSp  \\\n",
       "0                            Braund, Mr. Owen Harris    male  22.0      1   \n",
       "1  Cumings, Mrs. John Bradley (Florence Briggs Th...  female  38.0      1   \n",
       "2                             Heikkinen, Miss. Laina  female  26.0      0   \n",
       "3       Futrelle, Mrs. Jacques Heath (Lily May Peel)  female  35.0      1   \n",
       "4                           Allen, Mr. William Henry    male  35.0      0   \n",
       "\n",
       "   Parch            Ticket     Fare Cabin Embarked  \n",
       "0      0         A/5 21171   7.2500   NaN        S  \n",
       "1      0          PC 17599  71.2833   C85        C  \n",
       "2      0  STON/O2. 3101282   7.9250   NaN        S  \n",
       "3      0            113803  53.1000  C123        S  \n",
       "4      0            373450   8.0500   NaN        S  "
      ]
     },
     "execution_count": 267,
     "metadata": {},
     "output_type": "execute_result"
    }
   ],
   "source": [
    "titanic.head()   # Head of data"
   ]
  },
  {
   "cell_type": "code",
   "execution_count": 268,
   "metadata": {},
   "outputs": [
    {
     "data": {
      "text/html": [
       "<div>\n",
       "<style scoped>\n",
       "    .dataframe tbody tr th:only-of-type {\n",
       "        vertical-align: middle;\n",
       "    }\n",
       "\n",
       "    .dataframe tbody tr th {\n",
       "        vertical-align: top;\n",
       "    }\n",
       "\n",
       "    .dataframe thead th {\n",
       "        text-align: right;\n",
       "    }\n",
       "</style>\n",
       "<table border=\"1\" class=\"dataframe\">\n",
       "  <thead>\n",
       "    <tr style=\"text-align: right;\">\n",
       "      <th></th>\n",
       "      <th>PassengerId</th>\n",
       "      <th>Survived</th>\n",
       "      <th>Pclass</th>\n",
       "      <th>Name</th>\n",
       "      <th>Sex</th>\n",
       "      <th>Age</th>\n",
       "      <th>SibSp</th>\n",
       "      <th>Parch</th>\n",
       "      <th>Ticket</th>\n",
       "      <th>Fare</th>\n",
       "      <th>Cabin</th>\n",
       "      <th>Embarked</th>\n",
       "    </tr>\n",
       "  </thead>\n",
       "  <tbody>\n",
       "    <tr>\n",
       "      <th>886</th>\n",
       "      <td>887</td>\n",
       "      <td>0</td>\n",
       "      <td>2</td>\n",
       "      <td>Montvila, Rev. Juozas</td>\n",
       "      <td>male</td>\n",
       "      <td>27.0</td>\n",
       "      <td>0</td>\n",
       "      <td>0</td>\n",
       "      <td>211536</td>\n",
       "      <td>13.00</td>\n",
       "      <td>NaN</td>\n",
       "      <td>S</td>\n",
       "    </tr>\n",
       "    <tr>\n",
       "      <th>887</th>\n",
       "      <td>888</td>\n",
       "      <td>1</td>\n",
       "      <td>1</td>\n",
       "      <td>Graham, Miss. Margaret Edith</td>\n",
       "      <td>female</td>\n",
       "      <td>19.0</td>\n",
       "      <td>0</td>\n",
       "      <td>0</td>\n",
       "      <td>112053</td>\n",
       "      <td>30.00</td>\n",
       "      <td>B42</td>\n",
       "      <td>S</td>\n",
       "    </tr>\n",
       "    <tr>\n",
       "      <th>888</th>\n",
       "      <td>889</td>\n",
       "      <td>0</td>\n",
       "      <td>3</td>\n",
       "      <td>Johnston, Miss. Catherine Helen \"Carrie\"</td>\n",
       "      <td>female</td>\n",
       "      <td>NaN</td>\n",
       "      <td>1</td>\n",
       "      <td>2</td>\n",
       "      <td>W./C. 6607</td>\n",
       "      <td>23.45</td>\n",
       "      <td>NaN</td>\n",
       "      <td>S</td>\n",
       "    </tr>\n",
       "    <tr>\n",
       "      <th>889</th>\n",
       "      <td>890</td>\n",
       "      <td>1</td>\n",
       "      <td>1</td>\n",
       "      <td>Behr, Mr. Karl Howell</td>\n",
       "      <td>male</td>\n",
       "      <td>26.0</td>\n",
       "      <td>0</td>\n",
       "      <td>0</td>\n",
       "      <td>111369</td>\n",
       "      <td>30.00</td>\n",
       "      <td>C148</td>\n",
       "      <td>C</td>\n",
       "    </tr>\n",
       "    <tr>\n",
       "      <th>890</th>\n",
       "      <td>891</td>\n",
       "      <td>0</td>\n",
       "      <td>3</td>\n",
       "      <td>Dooley, Mr. Patrick</td>\n",
       "      <td>male</td>\n",
       "      <td>32.0</td>\n",
       "      <td>0</td>\n",
       "      <td>0</td>\n",
       "      <td>370376</td>\n",
       "      <td>7.75</td>\n",
       "      <td>NaN</td>\n",
       "      <td>Q</td>\n",
       "    </tr>\n",
       "  </tbody>\n",
       "</table>\n",
       "</div>"
      ],
      "text/plain": [
       "     PassengerId  Survived  Pclass                                      Name  \\\n",
       "886          887         0       2                     Montvila, Rev. Juozas   \n",
       "887          888         1       1              Graham, Miss. Margaret Edith   \n",
       "888          889         0       3  Johnston, Miss. Catherine Helen \"Carrie\"   \n",
       "889          890         1       1                     Behr, Mr. Karl Howell   \n",
       "890          891         0       3                       Dooley, Mr. Patrick   \n",
       "\n",
       "        Sex   Age  SibSp  Parch      Ticket   Fare Cabin Embarked  \n",
       "886    male  27.0      0      0      211536  13.00   NaN        S  \n",
       "887  female  19.0      0      0      112053  30.00   B42        S  \n",
       "888  female   NaN      1      2  W./C. 6607  23.45   NaN        S  \n",
       "889    male  26.0      0      0      111369  30.00  C148        C  \n",
       "890    male  32.0      0      0      370376   7.75   NaN        Q  "
      ]
     },
     "execution_count": 268,
     "metadata": {},
     "output_type": "execute_result"
    }
   ],
   "source": [
    "titanic.tail()    # Tail of data"
   ]
  },
  {
   "cell_type": "code",
   "execution_count": 269,
   "metadata": {},
   "outputs": [
    {
     "name": "stdout",
     "output_type": "stream",
     "text": [
      "<class 'pandas.core.frame.DataFrame'>\n",
      "RangeIndex: 891 entries, 0 to 890\n",
      "Data columns (total 12 columns):\n",
      " #   Column       Non-Null Count  Dtype  \n",
      "---  ------       --------------  -----  \n",
      " 0   PassengerId  891 non-null    int64  \n",
      " 1   Survived     891 non-null    int64  \n",
      " 2   Pclass       891 non-null    int64  \n",
      " 3   Name         891 non-null    object \n",
      " 4   Sex          891 non-null    object \n",
      " 5   Age          714 non-null    float64\n",
      " 6   SibSp        891 non-null    int64  \n",
      " 7   Parch        891 non-null    int64  \n",
      " 8   Ticket       891 non-null    object \n",
      " 9   Fare         891 non-null    float64\n",
      " 10  Cabin        204 non-null    object \n",
      " 11  Embarked     889 non-null    object \n",
      "dtypes: float64(2), int64(5), object(5)\n",
      "memory usage: 83.7+ KB\n"
     ]
    }
   ],
   "source": [
    "# Finding the missing values in the data\n",
    "titanic.info()"
   ]
  },
  {
   "cell_type": "code",
   "execution_count": 270,
   "metadata": {},
   "outputs": [],
   "source": [
    "# Data Cleaning : Removing null columns or columns which are very less impactful for analysis."
   ]
  },
  {
   "cell_type": "code",
   "execution_count": 271,
   "metadata": {},
   "outputs": [],
   "source": [
    "# Since Cabin column has most missing values hence we will not use this column.\n",
    "# Also the Name column, SibSp, Ticket columns are not useful.\n",
    "# hence we will drop these columns.\n",
    "\n",
    "titanic = titanic.drop(['Name','SibSp','Ticket', 'Cabin'], axis=1)"
   ]
  },
  {
   "cell_type": "code",
   "execution_count": 272,
   "metadata": {},
   "outputs": [
    {
     "data": {
      "text/html": [
       "<div>\n",
       "<style scoped>\n",
       "    .dataframe tbody tr th:only-of-type {\n",
       "        vertical-align: middle;\n",
       "    }\n",
       "\n",
       "    .dataframe tbody tr th {\n",
       "        vertical-align: top;\n",
       "    }\n",
       "\n",
       "    .dataframe thead th {\n",
       "        text-align: right;\n",
       "    }\n",
       "</style>\n",
       "<table border=\"1\" class=\"dataframe\">\n",
       "  <thead>\n",
       "    <tr style=\"text-align: right;\">\n",
       "      <th></th>\n",
       "      <th>PassengerId</th>\n",
       "      <th>Survived</th>\n",
       "      <th>Pclass</th>\n",
       "      <th>Sex</th>\n",
       "      <th>Age</th>\n",
       "      <th>Parch</th>\n",
       "      <th>Fare</th>\n",
       "      <th>Embarked</th>\n",
       "    </tr>\n",
       "  </thead>\n",
       "  <tbody>\n",
       "    <tr>\n",
       "      <th>0</th>\n",
       "      <td>1</td>\n",
       "      <td>0</td>\n",
       "      <td>3</td>\n",
       "      <td>male</td>\n",
       "      <td>22.0</td>\n",
       "      <td>0</td>\n",
       "      <td>7.2500</td>\n",
       "      <td>S</td>\n",
       "    </tr>\n",
       "    <tr>\n",
       "      <th>1</th>\n",
       "      <td>2</td>\n",
       "      <td>1</td>\n",
       "      <td>1</td>\n",
       "      <td>female</td>\n",
       "      <td>38.0</td>\n",
       "      <td>0</td>\n",
       "      <td>71.2833</td>\n",
       "      <td>C</td>\n",
       "    </tr>\n",
       "    <tr>\n",
       "      <th>2</th>\n",
       "      <td>3</td>\n",
       "      <td>1</td>\n",
       "      <td>3</td>\n",
       "      <td>female</td>\n",
       "      <td>26.0</td>\n",
       "      <td>0</td>\n",
       "      <td>7.9250</td>\n",
       "      <td>S</td>\n",
       "    </tr>\n",
       "    <tr>\n",
       "      <th>3</th>\n",
       "      <td>4</td>\n",
       "      <td>1</td>\n",
       "      <td>1</td>\n",
       "      <td>female</td>\n",
       "      <td>35.0</td>\n",
       "      <td>0</td>\n",
       "      <td>53.1000</td>\n",
       "      <td>S</td>\n",
       "    </tr>\n",
       "    <tr>\n",
       "      <th>4</th>\n",
       "      <td>5</td>\n",
       "      <td>0</td>\n",
       "      <td>3</td>\n",
       "      <td>male</td>\n",
       "      <td>35.0</td>\n",
       "      <td>0</td>\n",
       "      <td>8.0500</td>\n",
       "      <td>S</td>\n",
       "    </tr>\n",
       "  </tbody>\n",
       "</table>\n",
       "</div>"
      ],
      "text/plain": [
       "   PassengerId  Survived  Pclass     Sex   Age  Parch     Fare Embarked\n",
       "0            1         0       3    male  22.0      0   7.2500        S\n",
       "1            2         1       1  female  38.0      0  71.2833        C\n",
       "2            3         1       3  female  26.0      0   7.9250        S\n",
       "3            4         1       1  female  35.0      0  53.1000        S\n",
       "4            5         0       3    male  35.0      0   8.0500        S"
      ]
     },
     "execution_count": 272,
     "metadata": {},
     "output_type": "execute_result"
    }
   ],
   "source": [
    "titanic.head()"
   ]
  },
  {
   "cell_type": "code",
   "execution_count": 273,
   "metadata": {},
   "outputs": [
    {
     "data": {
      "text/plain": [
       "Index(['PassengerId', 'Survived', 'Pclass', 'Sex', 'Age', 'Parch', 'Fare',\n",
       "       'Embarked'],\n",
       "      dtype='object')"
      ]
     },
     "execution_count": 273,
     "metadata": {},
     "output_type": "execute_result"
    }
   ],
   "source": [
    "titanic.columns"
   ]
  },
  {
   "cell_type": "code",
   "execution_count": 274,
   "metadata": {},
   "outputs": [
    {
     "data": {
      "text/plain": [
       "7128"
      ]
     },
     "execution_count": 274,
     "metadata": {},
     "output_type": "execute_result"
    }
   ],
   "source": [
    "titanic.size    # In total 6237 values are present."
   ]
  },
  {
   "cell_type": "code",
   "execution_count": 275,
   "metadata": {},
   "outputs": [
    {
     "data": {
      "text/plain": [
       "(891, 8)"
      ]
     },
     "execution_count": 275,
     "metadata": {},
     "output_type": "execute_result"
    }
   ],
   "source": [
    "titanic.shape   # In total 891 rows and 7 columns are present."
   ]
  },
  {
   "cell_type": "code",
   "execution_count": 276,
   "metadata": {},
   "outputs": [
    {
     "data": {
      "text/plain": [
       "array(['S', 'C', 'Q', nan], dtype=object)"
      ]
     },
     "execution_count": 276,
     "metadata": {},
     "output_type": "execute_result"
    }
   ],
   "source": [
    "titanic['Embarked'].unique()"
   ]
  },
  {
   "cell_type": "code",
   "execution_count": 277,
   "metadata": {},
   "outputs": [
    {
     "data": {
      "text/plain": [
       "array([0, 1, 2, 5, 3, 4, 6], dtype=int64)"
      ]
     },
     "execution_count": 277,
     "metadata": {},
     "output_type": "execute_result"
    }
   ],
   "source": [
    "titanic['Parch'].unique()"
   ]
  },
  {
   "cell_type": "code",
   "execution_count": 278,
   "metadata": {},
   "outputs": [
    {
     "data": {
      "text/plain": [
       "array([3, 1, 2], dtype=int64)"
      ]
     },
     "execution_count": 278,
     "metadata": {},
     "output_type": "execute_result"
    }
   ],
   "source": [
    "titanic['Pclass'].unique()"
   ]
  },
  {
   "cell_type": "code",
   "execution_count": 279,
   "metadata": {},
   "outputs": [],
   "source": [
    "# pclass - passenger class (1st, 2nd, 3rd).\n",
    "# parch - Number of Parents/Children Aboard.\n",
    "# Embarked - Port from where they started the journey. (from google I found that : S-Southhampton\n",
    "#             C-Cherbourg, Q-Queenstown)"
   ]
  },
  {
   "cell_type": "code",
   "execution_count": 280,
   "metadata": {},
   "outputs": [],
   "source": [
    "# Modifying the data for easy understanding and visualization.\n",
    "# In survived column :-  0:Dead, 1:Survived\n",
    "# In Pclass column :- 1 : 1st Class, 2 : 2nd Class, 3 : 3rd Class\n",
    "# In Embarked column :- S : Southhampton, C : Cherbourg, Q : Queenstown\n",
    "\n",
    "titanic['Survival'] = titanic.Survived.map({0 : 'Dead', 1: 'Survived'})\n",
    "titanic['Class'] = titanic.Pclass.map({1 : '1st Class', 2 : '2nd Class', 3 : '3rd Class'})\n",
    "titanic['Embarked'] = titanic.Embarked.map({'S' : 'Southhampton', 'C' : 'Cherbourg', 'Q' : 'Queenstown'})"
   ]
  },
  {
   "cell_type": "code",
   "execution_count": 281,
   "metadata": {},
   "outputs": [
    {
     "data": {
      "text/html": [
       "<div>\n",
       "<style scoped>\n",
       "    .dataframe tbody tr th:only-of-type {\n",
       "        vertical-align: middle;\n",
       "    }\n",
       "\n",
       "    .dataframe tbody tr th {\n",
       "        vertical-align: top;\n",
       "    }\n",
       "\n",
       "    .dataframe thead th {\n",
       "        text-align: right;\n",
       "    }\n",
       "</style>\n",
       "<table border=\"1\" class=\"dataframe\">\n",
       "  <thead>\n",
       "    <tr style=\"text-align: right;\">\n",
       "      <th></th>\n",
       "      <th>PassengerId</th>\n",
       "      <th>Survived</th>\n",
       "      <th>Pclass</th>\n",
       "      <th>Sex</th>\n",
       "      <th>Age</th>\n",
       "      <th>Parch</th>\n",
       "      <th>Fare</th>\n",
       "      <th>Embarked</th>\n",
       "      <th>Survival</th>\n",
       "      <th>Class</th>\n",
       "    </tr>\n",
       "  </thead>\n",
       "  <tbody>\n",
       "    <tr>\n",
       "      <th>0</th>\n",
       "      <td>1</td>\n",
       "      <td>0</td>\n",
       "      <td>3</td>\n",
       "      <td>male</td>\n",
       "      <td>22.0</td>\n",
       "      <td>0</td>\n",
       "      <td>7.2500</td>\n",
       "      <td>Southhampton</td>\n",
       "      <td>Dead</td>\n",
       "      <td>3rd Class</td>\n",
       "    </tr>\n",
       "    <tr>\n",
       "      <th>1</th>\n",
       "      <td>2</td>\n",
       "      <td>1</td>\n",
       "      <td>1</td>\n",
       "      <td>female</td>\n",
       "      <td>38.0</td>\n",
       "      <td>0</td>\n",
       "      <td>71.2833</td>\n",
       "      <td>Cherbourg</td>\n",
       "      <td>Survived</td>\n",
       "      <td>1st Class</td>\n",
       "    </tr>\n",
       "    <tr>\n",
       "      <th>2</th>\n",
       "      <td>3</td>\n",
       "      <td>1</td>\n",
       "      <td>3</td>\n",
       "      <td>female</td>\n",
       "      <td>26.0</td>\n",
       "      <td>0</td>\n",
       "      <td>7.9250</td>\n",
       "      <td>Southhampton</td>\n",
       "      <td>Survived</td>\n",
       "      <td>3rd Class</td>\n",
       "    </tr>\n",
       "    <tr>\n",
       "      <th>3</th>\n",
       "      <td>4</td>\n",
       "      <td>1</td>\n",
       "      <td>1</td>\n",
       "      <td>female</td>\n",
       "      <td>35.0</td>\n",
       "      <td>0</td>\n",
       "      <td>53.1000</td>\n",
       "      <td>Southhampton</td>\n",
       "      <td>Survived</td>\n",
       "      <td>1st Class</td>\n",
       "    </tr>\n",
       "    <tr>\n",
       "      <th>4</th>\n",
       "      <td>5</td>\n",
       "      <td>0</td>\n",
       "      <td>3</td>\n",
       "      <td>male</td>\n",
       "      <td>35.0</td>\n",
       "      <td>0</td>\n",
       "      <td>8.0500</td>\n",
       "      <td>Southhampton</td>\n",
       "      <td>Dead</td>\n",
       "      <td>3rd Class</td>\n",
       "    </tr>\n",
       "  </tbody>\n",
       "</table>\n",
       "</div>"
      ],
      "text/plain": [
       "   PassengerId  Survived  Pclass     Sex   Age  Parch     Fare      Embarked  \\\n",
       "0            1         0       3    male  22.0      0   7.2500  Southhampton   \n",
       "1            2         1       1  female  38.0      0  71.2833     Cherbourg   \n",
       "2            3         1       3  female  26.0      0   7.9250  Southhampton   \n",
       "3            4         1       1  female  35.0      0  53.1000  Southhampton   \n",
       "4            5         0       3    male  35.0      0   8.0500  Southhampton   \n",
       "\n",
       "   Survival      Class  \n",
       "0      Dead  3rd Class  \n",
       "1  Survived  1st Class  \n",
       "2  Survived  3rd Class  \n",
       "3  Survived  1st Class  \n",
       "4      Dead  3rd Class  "
      ]
     },
     "execution_count": 281,
     "metadata": {},
     "output_type": "execute_result"
    }
   ],
   "source": [
    "titanic.head()"
   ]
  },
  {
   "cell_type": "code",
   "execution_count": 282,
   "metadata": {},
   "outputs": [
    {
     "data": {
      "text/html": [
       "<div>\n",
       "<style scoped>\n",
       "    .dataframe tbody tr th:only-of-type {\n",
       "        vertical-align: middle;\n",
       "    }\n",
       "\n",
       "    .dataframe tbody tr th {\n",
       "        vertical-align: top;\n",
       "    }\n",
       "\n",
       "    .dataframe thead th {\n",
       "        text-align: right;\n",
       "    }\n",
       "</style>\n",
       "<table border=\"1\" class=\"dataframe\">\n",
       "  <thead>\n",
       "    <tr style=\"text-align: right;\">\n",
       "      <th></th>\n",
       "      <th>PassengerId</th>\n",
       "      <th>Sex</th>\n",
       "      <th>Age</th>\n",
       "      <th>Fare</th>\n",
       "      <th>Embarked</th>\n",
       "      <th>Survival</th>\n",
       "      <th>Class</th>\n",
       "    </tr>\n",
       "  </thead>\n",
       "  <tbody>\n",
       "    <tr>\n",
       "      <th>0</th>\n",
       "      <td>1</td>\n",
       "      <td>male</td>\n",
       "      <td>22.0</td>\n",
       "      <td>7.2500</td>\n",
       "      <td>Southhampton</td>\n",
       "      <td>Dead</td>\n",
       "      <td>3rd Class</td>\n",
       "    </tr>\n",
       "    <tr>\n",
       "      <th>1</th>\n",
       "      <td>2</td>\n",
       "      <td>female</td>\n",
       "      <td>38.0</td>\n",
       "      <td>71.2833</td>\n",
       "      <td>Cherbourg</td>\n",
       "      <td>Survived</td>\n",
       "      <td>1st Class</td>\n",
       "    </tr>\n",
       "    <tr>\n",
       "      <th>2</th>\n",
       "      <td>3</td>\n",
       "      <td>female</td>\n",
       "      <td>26.0</td>\n",
       "      <td>7.9250</td>\n",
       "      <td>Southhampton</td>\n",
       "      <td>Survived</td>\n",
       "      <td>3rd Class</td>\n",
       "    </tr>\n",
       "    <tr>\n",
       "      <th>3</th>\n",
       "      <td>4</td>\n",
       "      <td>female</td>\n",
       "      <td>35.0</td>\n",
       "      <td>53.1000</td>\n",
       "      <td>Southhampton</td>\n",
       "      <td>Survived</td>\n",
       "      <td>1st Class</td>\n",
       "    </tr>\n",
       "    <tr>\n",
       "      <th>4</th>\n",
       "      <td>5</td>\n",
       "      <td>male</td>\n",
       "      <td>35.0</td>\n",
       "      <td>8.0500</td>\n",
       "      <td>Southhampton</td>\n",
       "      <td>Dead</td>\n",
       "      <td>3rd Class</td>\n",
       "    </tr>\n",
       "  </tbody>\n",
       "</table>\n",
       "</div>"
      ],
      "text/plain": [
       "   PassengerId     Sex   Age     Fare      Embarked  Survival      Class\n",
       "0            1    male  22.0   7.2500  Southhampton      Dead  3rd Class\n",
       "1            2  female  38.0  71.2833     Cherbourg  Survived  1st Class\n",
       "2            3  female  26.0   7.9250  Southhampton  Survived  3rd Class\n",
       "3            4  female  35.0  53.1000  Southhampton  Survived  1st Class\n",
       "4            5    male  35.0   8.0500  Southhampton      Dead  3rd Class"
      ]
     },
     "execution_count": 282,
     "metadata": {},
     "output_type": "execute_result"
    }
   ],
   "source": [
    "titanic = titanic.drop(['Pclass', 'Survived', 'Parch'], axis = 1)\n",
    "titanic.head()"
   ]
  },
  {
   "cell_type": "code",
   "execution_count": 283,
   "metadata": {},
   "outputs": [
    {
     "data": {
      "text/plain": [
       "Text(0, 0.5, 'Count')"
      ]
     },
     "execution_count": 283,
     "metadata": {},
     "output_type": "execute_result"
    },
    {
     "data": {
      "image/png": "[encoded data removed]",
      "text/plain": [
       "<Figure size 432x288 with 1 Axes>"
      ]
     },
     "metadata": {
      "needs_background": "light"
     },
     "output_type": "display_data"
    }
   ],
   "source": [
    "# Visualizing peoples by survival : \n",
    "\n",
    "titanic['Survival'].value_counts().plot(kind='bar', title='Mortality')\n",
    "plt.xticks(rotation = 0)\n",
    "plt.ylabel('Count')"
   ]
  },
  {
   "cell_type": "code",
   "execution_count": 284,
   "metadata": {},
   "outputs": [
    {
     "data": {
      "text/plain": [
       "Text(0, 0.5, 'Counts')"
      ]
     },
     "execution_count": 284,
     "metadata": {},
     "output_type": "execute_result"
    },
    {
     "data": {
      "image/png": "[encoded data removed]",
      "text/plain": [
       "<Figure size 432x288 with 1 Axes>"
      ]
     },
     "metadata": {
      "needs_background": "light"
     },
     "output_type": "display_data"
    }
   ],
   "source": [
    "# Visualizing peoples by Gender : \n",
    "\n",
    "titanic['Sex'].value_counts().plot(kind = 'bar', title = 'Gender Count')\n",
    "plt.xticks(rotation = 0)\n",
    "plt.ylabel('Counts')\n"
   ]
  },
  {
   "cell_type": "code",
   "execution_count": 285,
   "metadata": {},
   "outputs": [
    {
     "data": {
      "text/plain": [
       "<AxesSubplot:xlabel='Age', ylabel='Count'>"
      ]
     },
     "execution_count": 285,
     "metadata": {},
     "output_type": "execute_result"
    },
    {
     "data": {
      "image/png": "[encoded data removed]",
      "text/plain": [
       "<Figure size 432x288 with 1 Axes>"
      ]
     },
     "metadata": {
      "needs_background": "light"
     },
     "output_type": "display_data"
    }
   ],
   "source": [
    "# Visualizing peoples by age :\n",
    "\n",
    "sns.histplot(x = 'Age', data = titanic, hue = 'Sex', multiple = 'stack')\n",
    "\n",
    "# From this we can say that majority of peoples kwere from age group 15-35 (Adults).\n",
    "# and male count was almost double to the female count in every age group."
   ]
  },
  {
   "cell_type": "code",
   "execution_count": 286,
   "metadata": {},
   "outputs": [
    {
     "data": {
      "text/plain": [
       "Text(0, 0.5, 'Counts')"
      ]
     },
     "execution_count": 286,
     "metadata": {},
     "output_type": "execute_result"
    },
    {
     "data": {
      "image/png": "[encoded data removed]",
      "text/plain": [
       "<Figure size 432x288 with 1 Axes>"
      ]
     },
     "metadata": {
      "needs_background": "light"
     },
     "output_type": "display_data"
    }
   ],
   "source": [
    "titanic['Embarked'].value_counts().plot(kind = 'bar', title = 'Passengers Embarked From')\n",
    "plt.xticks(rotation = 0)\n",
    "plt.ylabel('Counts')\n",
    "\n",
    "# Majority of peoples were from Southhampton."
   ]
  },
  {
   "cell_type": "code",
   "execution_count": 287,
   "metadata": {},
   "outputs": [
    {
     "data": {
      "text/plain": [
       "Text(0, 0.5, 'Counts')"
      ]
     },
     "execution_count": 287,
     "metadata": {},
     "output_type": "execute_result"
    },
    {
     "data": {
      "image/png": "[encoded data removed]",
      "text/plain": [
       "<Figure size 432x288 with 1 Axes>"
      ]
     },
     "metadata": {
      "needs_background": "light"
     },
     "output_type": "display_data"
    }
   ],
   "source": [
    "# Peoples Class:\n",
    "titanic['Class'].value_counts().plot(kind = 'bar', title = 'Class of passengers')\n",
    "plt.xticks(rotation = 0)\n",
    "plt.ylabel('Counts')\n",
    "# Majority of peoples were sitting in 3rd class."
   ]
  },
  {
   "cell_type": "code",
   "execution_count": 288,
   "metadata": {},
   "outputs": [
    {
     "data": {
      "text/plain": [
       "177"
      ]
     },
     "execution_count": 288,
     "metadata": {},
     "output_type": "execute_result"
    }
   ],
   "source": [
    "# In this data some of the age values are NaN, hence we will find out those values and try\n",
    "# to substitute them with suitable value. \n",
    "\n",
    "age_null = titanic.Age[titanic['Age'].isna()]  \n",
    "len(age_null)\n",
    "\n",
    "# Total 177 passengers are having age data missing. We will fill those values using mean value of age."
   ]
  },
  {
   "cell_type": "code",
   "execution_count": 289,
   "metadata": {},
   "outputs": [
    {
     "data": {
      "text/plain": [
       "29.69911764705882"
      ]
     },
     "execution_count": 289,
     "metadata": {},
     "output_type": "execute_result"
    }
   ],
   "source": [
    "titanic['Age'].mean()"
   ]
  },
  {
   "cell_type": "code",
   "execution_count": 290,
   "metadata": {},
   "outputs": [],
   "source": [
    "titanic['Age'] = titanic['Age'].fillna(titanic['Age'].mean())"
   ]
  },
  {
   "cell_type": "code",
   "execution_count": 291,
   "metadata": {},
   "outputs": [
    {
     "data": {
      "text/html": [
       "<div>\n",
       "<style scoped>\n",
       "    .dataframe tbody tr th:only-of-type {\n",
       "        vertical-align: middle;\n",
       "    }\n",
       "\n",
       "    .dataframe tbody tr th {\n",
       "        vertical-align: top;\n",
       "    }\n",
       "\n",
       "    .dataframe thead th {\n",
       "        text-align: right;\n",
       "    }\n",
       "</style>\n",
       "<table border=\"1\" class=\"dataframe\">\n",
       "  <thead>\n",
       "    <tr style=\"text-align: right;\">\n",
       "      <th></th>\n",
       "      <th>PassengerId</th>\n",
       "      <th>Sex</th>\n",
       "      <th>Age</th>\n",
       "      <th>Fare</th>\n",
       "      <th>Embarked</th>\n",
       "      <th>Survival</th>\n",
       "      <th>Class</th>\n",
       "    </tr>\n",
       "  </thead>\n",
       "  <tbody>\n",
       "    <tr>\n",
       "      <th>0</th>\n",
       "      <td>1</td>\n",
       "      <td>male</td>\n",
       "      <td>22.0</td>\n",
       "      <td>7.2500</td>\n",
       "      <td>Southhampton</td>\n",
       "      <td>Dead</td>\n",
       "      <td>3rd Class</td>\n",
       "    </tr>\n",
       "    <tr>\n",
       "      <th>1</th>\n",
       "      <td>2</td>\n",
       "      <td>female</td>\n",
       "      <td>38.0</td>\n",
       "      <td>71.2833</td>\n",
       "      <td>Cherbourg</td>\n",
       "      <td>Survived</td>\n",
       "      <td>1st Class</td>\n",
       "    </tr>\n",
       "    <tr>\n",
       "      <th>2</th>\n",
       "      <td>3</td>\n",
       "      <td>female</td>\n",
       "      <td>26.0</td>\n",
       "      <td>7.9250</td>\n",
       "      <td>Southhampton</td>\n",
       "      <td>Survived</td>\n",
       "      <td>3rd Class</td>\n",
       "    </tr>\n",
       "    <tr>\n",
       "      <th>3</th>\n",
       "      <td>4</td>\n",
       "      <td>female</td>\n",
       "      <td>35.0</td>\n",
       "      <td>53.1000</td>\n",
       "      <td>Southhampton</td>\n",
       "      <td>Survived</td>\n",
       "      <td>1st Class</td>\n",
       "    </tr>\n",
       "    <tr>\n",
       "      <th>4</th>\n",
       "      <td>5</td>\n",
       "      <td>male</td>\n",
       "      <td>35.0</td>\n",
       "      <td>8.0500</td>\n",
       "      <td>Southhampton</td>\n",
       "      <td>Dead</td>\n",
       "      <td>3rd Class</td>\n",
       "    </tr>\n",
       "  </tbody>\n",
       "</table>\n",
       "</div>"
      ],
      "text/plain": [
       "   PassengerId     Sex   Age     Fare      Embarked  Survival      Class\n",
       "0            1    male  22.0   7.2500  Southhampton      Dead  3rd Class\n",
       "1            2  female  38.0  71.2833     Cherbourg  Survived  1st Class\n",
       "2            3  female  26.0   7.9250  Southhampton  Survived  3rd Class\n",
       "3            4  female  35.0  53.1000  Southhampton  Survived  1st Class\n",
       "4            5    male  35.0   8.0500  Southhampton      Dead  3rd Class"
      ]
     },
     "execution_count": 291,
     "metadata": {},
     "output_type": "execute_result"
    }
   ],
   "source": [
    "titanic.head()"
   ]
  },
  {
   "cell_type": "code",
   "execution_count": 292,
   "metadata": {},
   "outputs": [
    {
     "data": {
      "text/html": [
       "<div>\n",
       "<style scoped>\n",
       "    .dataframe tbody tr th:only-of-type {\n",
       "        vertical-align: middle;\n",
       "    }\n",
       "\n",
       "    .dataframe tbody tr th {\n",
       "        vertical-align: top;\n",
       "    }\n",
       "\n",
       "    .dataframe thead th {\n",
       "        text-align: right;\n",
       "    }\n",
       "</style>\n",
       "<table border=\"1\" class=\"dataframe\">\n",
       "  <thead>\n",
       "    <tr style=\"text-align: right;\">\n",
       "      <th></th>\n",
       "      <th>PassengerId</th>\n",
       "      <th>Sex</th>\n",
       "      <th>Age</th>\n",
       "      <th>Fare</th>\n",
       "      <th>Embarked</th>\n",
       "      <th>Survival</th>\n",
       "      <th>Class</th>\n",
       "    </tr>\n",
       "  </thead>\n",
       "  <tbody>\n",
       "    <tr>\n",
       "      <th>886</th>\n",
       "      <td>887</td>\n",
       "      <td>male</td>\n",
       "      <td>27.000000</td>\n",
       "      <td>13.00</td>\n",
       "      <td>Southhampton</td>\n",
       "      <td>Dead</td>\n",
       "      <td>2nd Class</td>\n",
       "    </tr>\n",
       "    <tr>\n",
       "      <th>887</th>\n",
       "      <td>888</td>\n",
       "      <td>female</td>\n",
       "      <td>19.000000</td>\n",
       "      <td>30.00</td>\n",
       "      <td>Southhampton</td>\n",
       "      <td>Survived</td>\n",
       "      <td>1st Class</td>\n",
       "    </tr>\n",
       "    <tr>\n",
       "      <th>888</th>\n",
       "      <td>889</td>\n",
       "      <td>female</td>\n",
       "      <td>29.699118</td>\n",
       "      <td>23.45</td>\n",
       "      <td>Southhampton</td>\n",
       "      <td>Dead</td>\n",
       "      <td>3rd Class</td>\n",
       "    </tr>\n",
       "    <tr>\n",
       "      <th>889</th>\n",
       "      <td>890</td>\n",
       "      <td>male</td>\n",
       "      <td>26.000000</td>\n",
       "      <td>30.00</td>\n",
       "      <td>Cherbourg</td>\n",
       "      <td>Survived</td>\n",
       "      <td>1st Class</td>\n",
       "    </tr>\n",
       "    <tr>\n",
       "      <th>890</th>\n",
       "      <td>891</td>\n",
       "      <td>male</td>\n",
       "      <td>32.000000</td>\n",
       "      <td>7.75</td>\n",
       "      <td>Queenstown</td>\n",
       "      <td>Dead</td>\n",
       "      <td>3rd Class</td>\n",
       "    </tr>\n",
       "  </tbody>\n",
       "</table>\n",
       "</div>"
      ],
      "text/plain": [
       "     PassengerId     Sex        Age   Fare      Embarked  Survival      Class\n",
       "886          887    male  27.000000  13.00  Southhampton      Dead  2nd Class\n",
       "887          888  female  19.000000  30.00  Southhampton  Survived  1st Class\n",
       "888          889  female  29.699118  23.45  Southhampton      Dead  3rd Class\n",
       "889          890    male  26.000000  30.00     Cherbourg  Survived  1st Class\n",
       "890          891    male  32.000000   7.75    Queenstown      Dead  3rd Class"
      ]
     },
     "execution_count": 292,
     "metadata": {},
     "output_type": "execute_result"
    }
   ],
   "source": [
    "titanic.tail()"
   ]
  },
  {
   "cell_type": "code",
   "execution_count": 293,
   "metadata": {},
   "outputs": [
    {
     "data": {
      "text/plain": [
       "Sex     Survival  Class      Embarked    \n",
       "female  Dead      1st Class  Cherbourg         1\n",
       "                             Southhampton      2\n",
       "                  2nd Class  Southhampton      6\n",
       "                  3rd Class  Cherbourg         8\n",
       "                             Queenstown        9\n",
       "                             Southhampton     55\n",
       "        Survived  1st Class  Cherbourg        42\n",
       "                             Queenstown        1\n",
       "                             Southhampton     46\n",
       "                  2nd Class  Cherbourg         7\n",
       "                             Queenstown        2\n",
       "                             Southhampton     61\n",
       "                  3rd Class  Cherbourg        15\n",
       "                             Queenstown       24\n",
       "                             Southhampton     33\n",
       "male    Dead      1st Class  Cherbourg        25\n",
       "                             Queenstown        1\n",
       "                             Southhampton     51\n",
       "                  2nd Class  Cherbourg         8\n",
       "                             Queenstown        1\n",
       "                             Southhampton     82\n",
       "                  3rd Class  Cherbourg        33\n",
       "                             Queenstown       36\n",
       "                             Southhampton    231\n",
       "        Survived  1st Class  Cherbourg        17\n",
       "                             Southhampton     28\n",
       "                  2nd Class  Cherbourg         2\n",
       "                             Southhampton     15\n",
       "                  3rd Class  Cherbourg        10\n",
       "                             Queenstown        3\n",
       "                             Southhampton     34\n",
       "Name: Age, dtype: int64"
      ]
     },
     "execution_count": 293,
     "metadata": {},
     "output_type": "execute_result"
    }
   ],
   "source": [
    "(titanic.groupby(['Sex', 'Survival', 'Class', 'Embarked'])['Age']).count()"
   ]
  },
  {
   "cell_type": "code",
   "execution_count": 294,
   "metadata": {},
   "outputs": [
    {
     "data": {
      "text/html": [
       "<div>\n",
       "<style scoped>\n",
       "    .dataframe tbody tr th:only-of-type {\n",
       "        vertical-align: middle;\n",
       "    }\n",
       "\n",
       "    .dataframe tbody tr th {\n",
       "        vertical-align: top;\n",
       "    }\n",
       "\n",
       "    .dataframe thead th {\n",
       "        text-align: right;\n",
       "    }\n",
       "</style>\n",
       "<table border=\"1\" class=\"dataframe\">\n",
       "  <thead>\n",
       "    <tr style=\"text-align: right;\">\n",
       "      <th>Survival</th>\n",
       "      <th>Dead</th>\n",
       "      <th>Survived</th>\n",
       "    </tr>\n",
       "    <tr>\n",
       "      <th>Class</th>\n",
       "      <th></th>\n",
       "      <th></th>\n",
       "    </tr>\n",
       "  </thead>\n",
       "  <tbody>\n",
       "    <tr>\n",
       "      <th>1st Class</th>\n",
       "      <td>80</td>\n",
       "      <td>136</td>\n",
       "    </tr>\n",
       "    <tr>\n",
       "      <th>2nd Class</th>\n",
       "      <td>97</td>\n",
       "      <td>87</td>\n",
       "    </tr>\n",
       "    <tr>\n",
       "      <th>3rd Class</th>\n",
       "      <td>372</td>\n",
       "      <td>119</td>\n",
       "    </tr>\n",
       "  </tbody>\n",
       "</table>\n",
       "</div>"
      ],
      "text/plain": [
       "Survival   Dead  Survived\n",
       "Class                    \n",
       "1st Class    80       136\n",
       "2nd Class    97        87\n",
       "3rd Class   372       119"
      ]
     },
     "execution_count": 294,
     "metadata": {},
     "output_type": "execute_result"
    }
   ],
   "source": [
    "pclass_survival = titanic.groupby('Class')['Survival'].value_counts().unstack()\n",
    "pclass_survival"
   ]
  },
  {
   "cell_type": "code",
   "execution_count": 295,
   "metadata": {},
   "outputs": [
    {
     "data": {
      "text/html": [
       "<div>\n",
       "<style scoped>\n",
       "    .dataframe tbody tr th:only-of-type {\n",
       "        vertical-align: middle;\n",
       "    }\n",
       "\n",
       "    .dataframe tbody tr th {\n",
       "        vertical-align: top;\n",
       "    }\n",
       "\n",
       "    .dataframe thead th {\n",
       "        text-align: right;\n",
       "    }\n",
       "</style>\n",
       "<table border=\"1\" class=\"dataframe\">\n",
       "  <thead>\n",
       "    <tr style=\"text-align: right;\">\n",
       "      <th>Survival</th>\n",
       "      <th>Dead</th>\n",
       "      <th>Survived</th>\n",
       "    </tr>\n",
       "    <tr>\n",
       "      <th>Class</th>\n",
       "      <th></th>\n",
       "      <th></th>\n",
       "    </tr>\n",
       "  </thead>\n",
       "  <tbody>\n",
       "    <tr>\n",
       "      <th>1st Class</th>\n",
       "      <td>0.370370</td>\n",
       "      <td>0.629630</td>\n",
       "    </tr>\n",
       "    <tr>\n",
       "      <th>2nd Class</th>\n",
       "      <td>0.527174</td>\n",
       "      <td>0.472826</td>\n",
       "    </tr>\n",
       "    <tr>\n",
       "      <th>3rd Class</th>\n",
       "      <td>0.757637</td>\n",
       "      <td>0.242363</td>\n",
       "    </tr>\n",
       "  </tbody>\n",
       "</table>\n",
       "</div>"
      ],
      "text/plain": [
       "Survival       Dead  Survived\n",
       "Class                        \n",
       "1st Class  0.370370  0.629630\n",
       "2nd Class  0.527174  0.472826\n",
       "3rd Class  0.757637  0.242363"
      ]
     },
     "execution_count": 295,
     "metadata": {},
     "output_type": "execute_result"
    }
   ],
   "source": [
    "titanic.groupby('Class')['Survival'].value_counts(normalize = True).unstack()\n",
    "\n",
    "# From this data we can infer that the passengers belonging to the 3rd class (either Male or Female)\n",
    "# has less than 25% probability of survival."
   ]
  },
  {
   "cell_type": "code",
   "execution_count": 296,
   "metadata": {},
   "outputs": [
    {
     "data": {
      "text/html": [
       "<div>\n",
       "<style scoped>\n",
       "    .dataframe tbody tr th:only-of-type {\n",
       "        vertical-align: middle;\n",
       "    }\n",
       "\n",
       "    .dataframe tbody tr th {\n",
       "        vertical-align: top;\n",
       "    }\n",
       "\n",
       "    .dataframe thead th {\n",
       "        text-align: right;\n",
       "    }\n",
       "</style>\n",
       "<table border=\"1\" class=\"dataframe\">\n",
       "  <thead>\n",
       "    <tr style=\"text-align: right;\">\n",
       "      <th></th>\n",
       "      <th>Survival</th>\n",
       "      <th>Dead</th>\n",
       "      <th>Survived</th>\n",
       "    </tr>\n",
       "    <tr>\n",
       "      <th>Class</th>\n",
       "      <th>Sex</th>\n",
       "      <th></th>\n",
       "      <th></th>\n",
       "    </tr>\n",
       "  </thead>\n",
       "  <tbody>\n",
       "    <tr>\n",
       "      <th rowspan=\"2\" valign=\"top\">1st Class</th>\n",
       "      <th>female</th>\n",
       "      <td>0.031915</td>\n",
       "      <td>0.968085</td>\n",
       "    </tr>\n",
       "    <tr>\n",
       "      <th>male</th>\n",
       "      <td>0.631148</td>\n",
       "      <td>0.368852</td>\n",
       "    </tr>\n",
       "    <tr>\n",
       "      <th rowspan=\"2\" valign=\"top\">2nd Class</th>\n",
       "      <th>female</th>\n",
       "      <td>0.078947</td>\n",
       "      <td>0.921053</td>\n",
       "    </tr>\n",
       "    <tr>\n",
       "      <th>male</th>\n",
       "      <td>0.842593</td>\n",
       "      <td>0.157407</td>\n",
       "    </tr>\n",
       "    <tr>\n",
       "      <th rowspan=\"2\" valign=\"top\">3rd Class</th>\n",
       "      <th>female</th>\n",
       "      <td>0.500000</td>\n",
       "      <td>0.500000</td>\n",
       "    </tr>\n",
       "    <tr>\n",
       "      <th>male</th>\n",
       "      <td>0.864553</td>\n",
       "      <td>0.135447</td>\n",
       "    </tr>\n",
       "  </tbody>\n",
       "</table>\n",
       "</div>"
      ],
      "text/plain": [
       "Survival              Dead  Survived\n",
       "Class     Sex                       \n",
       "1st Class female  0.031915  0.968085\n",
       "          male    0.631148  0.368852\n",
       "2nd Class female  0.078947  0.921053\n",
       "          male    0.842593  0.157407\n",
       "3rd Class female  0.500000  0.500000\n",
       "          male    0.864553  0.135447"
      ]
     },
     "execution_count": 296,
     "metadata": {},
     "output_type": "execute_result"
    }
   ],
   "source": [
    "titanic.groupby(['Class', 'Sex'])['Survival'].value_counts(normalize = True).unstack()"
   ]
  },
  {
   "cell_type": "code",
   "execution_count": 297,
   "metadata": {},
   "outputs": [
    {
     "data": {
      "text/html": [
       "<div>\n",
       "<style scoped>\n",
       "    .dataframe tbody tr th:only-of-type {\n",
       "        vertical-align: middle;\n",
       "    }\n",
       "\n",
       "    .dataframe tbody tr th {\n",
       "        vertical-align: top;\n",
       "    }\n",
       "\n",
       "    .dataframe thead th {\n",
       "        text-align: right;\n",
       "    }\n",
       "</style>\n",
       "<table border=\"1\" class=\"dataframe\">\n",
       "  <thead>\n",
       "    <tr style=\"text-align: right;\">\n",
       "      <th></th>\n",
       "      <th>PassengerId</th>\n",
       "      <th>Sex</th>\n",
       "      <th>Age</th>\n",
       "      <th>Fare</th>\n",
       "      <th>Embarked</th>\n",
       "      <th>Survival</th>\n",
       "      <th>Class</th>\n",
       "      <th>AgeGroup</th>\n",
       "    </tr>\n",
       "  </thead>\n",
       "  <tbody>\n",
       "    <tr>\n",
       "      <th>0</th>\n",
       "      <td>1</td>\n",
       "      <td>male</td>\n",
       "      <td>22.0</td>\n",
       "      <td>7.2500</td>\n",
       "      <td>Southhampton</td>\n",
       "      <td>Dead</td>\n",
       "      <td>3rd Class</td>\n",
       "      <td>Young</td>\n",
       "    </tr>\n",
       "    <tr>\n",
       "      <th>1</th>\n",
       "      <td>2</td>\n",
       "      <td>female</td>\n",
       "      <td>38.0</td>\n",
       "      <td>71.2833</td>\n",
       "      <td>Cherbourg</td>\n",
       "      <td>Survived</td>\n",
       "      <td>1st Class</td>\n",
       "      <td>Young</td>\n",
       "    </tr>\n",
       "    <tr>\n",
       "      <th>2</th>\n",
       "      <td>3</td>\n",
       "      <td>female</td>\n",
       "      <td>26.0</td>\n",
       "      <td>7.9250</td>\n",
       "      <td>Southhampton</td>\n",
       "      <td>Survived</td>\n",
       "      <td>3rd Class</td>\n",
       "      <td>Young</td>\n",
       "    </tr>\n",
       "    <tr>\n",
       "      <th>3</th>\n",
       "      <td>4</td>\n",
       "      <td>female</td>\n",
       "      <td>35.0</td>\n",
       "      <td>53.1000</td>\n",
       "      <td>Southhampton</td>\n",
       "      <td>Survived</td>\n",
       "      <td>1st Class</td>\n",
       "      <td>Young</td>\n",
       "    </tr>\n",
       "    <tr>\n",
       "      <th>4</th>\n",
       "      <td>5</td>\n",
       "      <td>male</td>\n",
       "      <td>35.0</td>\n",
       "      <td>8.0500</td>\n",
       "      <td>Southhampton</td>\n",
       "      <td>Dead</td>\n",
       "      <td>3rd Class</td>\n",
       "      <td>Young</td>\n",
       "    </tr>\n",
       "  </tbody>\n",
       "</table>\n",
       "</div>"
      ],
      "text/plain": [
       "   PassengerId     Sex   Age     Fare      Embarked  Survival      Class  \\\n",
       "0            1    male  22.0   7.2500  Southhampton      Dead  3rd Class   \n",
       "1            2  female  38.0  71.2833     Cherbourg  Survived  1st Class   \n",
       "2            3  female  26.0   7.9250  Southhampton  Survived  3rd Class   \n",
       "3            4  female  35.0  53.1000  Southhampton  Survived  1st Class   \n",
       "4            5    male  35.0   8.0500  Southhampton      Dead  3rd Class   \n",
       "\n",
       "  AgeGroup  \n",
       "0    Young  \n",
       "1    Young  \n",
       "2    Young  \n",
       "3    Young  \n",
       "4    Young  "
      ]
     },
     "execution_count": 297,
     "metadata": {},
     "output_type": "execute_result"
    }
   ],
   "source": [
    "titanic.loc[(titanic.Age <= 50),  'AgeGroup'] = 'Young'\n",
    "titanic.loc[(titanic.Age > 50),  'AgeGroup'] = 'Old'\n",
    "titanic.head()"
   ]
  },
  {
   "cell_type": "code",
   "execution_count": 298,
   "metadata": {},
   "outputs": [
    {
     "data": {
      "text/plain": [
       "Young    827\n",
       "Old       64\n",
       "Name: AgeGroup, dtype: int64"
      ]
     },
     "execution_count": 298,
     "metadata": {},
     "output_type": "execute_result"
    }
   ],
   "source": [
    "titanic['AgeGroup'].value_counts()"
   ]
  },
  {
   "cell_type": "code",
   "execution_count": 299,
   "metadata": {},
   "outputs": [
    {
     "data": {
      "text/plain": [
       "male      577\n",
       "female    314\n",
       "Name: Sex, dtype: int64"
      ]
     },
     "execution_count": 299,
     "metadata": {},
     "output_type": "execute_result"
    }
   ],
   "source": [
    "titanic['Survival'] = titanic.Survival.map({'Dead':0, 'Survived':1})\n",
    "titanic['Sex'].value_counts()"
   ]
  },
  {
   "cell_type": "code",
   "execution_count": 300,
   "metadata": {},
   "outputs": [
    {
     "data": {
      "text/plain": [
       "<seaborn.axisgrid.FacetGrid at 0x284ac4cfcd0>"
      ]
     },
     "execution_count": 300,
     "metadata": {},
     "output_type": "execute_result"
    },
    {
     "data": {
      "image/png": "[encoded data removed]",
      "text/plain": [
       "<Figure size 444.625x360 with 1 Axes>"
      ]
     },
     "metadata": {
      "needs_background": "light"
     },
     "output_type": "display_data"
    }
   ],
   "source": [
    "sns.catplot(x='Sex', y='Survival', hue = 'Class', kind = 'bar', data = titanic, col_order=(['1st Class', '2nd Class', '3rd Class']))"
   ]
  },
  {
   "cell_type": "code",
   "execution_count": 301,
   "metadata": {},
   "outputs": [],
   "source": [
    "# From above graph also we can conclude that survival rate of survival rate of Male in 1st class is even\n",
    "# less than the survival rate of Female in 3rd class even there were less no of females."
   ]
  },
  {
   "cell_type": "code",
   "execution_count": 302,
   "metadata": {},
   "outputs": [],
   "source": [
    "titanic['Survival'] = titanic.Survival.map({0: 'Dead', 1: 'Survived'})"
   ]
  },
  {
   "cell_type": "code",
   "execution_count": 303,
   "metadata": {},
   "outputs": [
    {
     "data": {
      "text/html": [
       "<div>\n",
       "<style scoped>\n",
       "    .dataframe tbody tr th:only-of-type {\n",
       "        vertical-align: middle;\n",
       "    }\n",
       "\n",
       "    .dataframe tbody tr th {\n",
       "        vertical-align: top;\n",
       "    }\n",
       "\n",
       "    .dataframe thead th {\n",
       "        text-align: right;\n",
       "    }\n",
       "</style>\n",
       "<table border=\"1\" class=\"dataframe\">\n",
       "  <thead>\n",
       "    <tr style=\"text-align: right;\">\n",
       "      <th></th>\n",
       "      <th></th>\n",
       "      <th></th>\n",
       "      <th></th>\n",
       "      <th>count</th>\n",
       "      <th>mean</th>\n",
       "      <th>std</th>\n",
       "      <th>min</th>\n",
       "      <th>25%</th>\n",
       "      <th>50%</th>\n",
       "      <th>75%</th>\n",
       "      <th>max</th>\n",
       "    </tr>\n",
       "    <tr>\n",
       "      <th>Sex</th>\n",
       "      <th>Class</th>\n",
       "      <th>Embarked</th>\n",
       "      <th>Survival</th>\n",
       "      <th></th>\n",
       "      <th></th>\n",
       "      <th></th>\n",
       "      <th></th>\n",
       "      <th></th>\n",
       "      <th></th>\n",
       "      <th></th>\n",
       "      <th></th>\n",
       "    </tr>\n",
       "  </thead>\n",
       "  <tbody>\n",
       "    <tr>\n",
       "      <th rowspan=\"15\" valign=\"top\">female</th>\n",
       "      <th rowspan=\"5\" valign=\"top\">1st Class</th>\n",
       "      <th rowspan=\"2\" valign=\"top\">Cherbourg</th>\n",
       "      <th>Dead</th>\n",
       "      <td>1.0</td>\n",
       "      <td>50.000000</td>\n",
       "      <td>NaN</td>\n",
       "      <td>50.000000</td>\n",
       "      <td>50.000000</td>\n",
       "      <td>50.000000</td>\n",
       "      <td>50.000000</td>\n",
       "      <td>50.000000</td>\n",
       "    </tr>\n",
       "    <tr>\n",
       "      <th>Survived</th>\n",
       "      <td>42.0</td>\n",
       "      <td>34.964181</td>\n",
       "      <td>12.367782</td>\n",
       "      <td>16.000000</td>\n",
       "      <td>24.000000</td>\n",
       "      <td>31.500000</td>\n",
       "      <td>43.500000</td>\n",
       "      <td>60.000000</td>\n",
       "    </tr>\n",
       "    <tr>\n",
       "      <th>Queenstown</th>\n",
       "      <th>Survived</th>\n",
       "      <td>1.0</td>\n",
       "      <td>33.000000</td>\n",
       "      <td>NaN</td>\n",
       "      <td>33.000000</td>\n",
       "      <td>33.000000</td>\n",
       "      <td>33.000000</td>\n",
       "      <td>33.000000</td>\n",
       "      <td>33.000000</td>\n",
       "    </tr>\n",
       "    <tr>\n",
       "      <th rowspan=\"2\" valign=\"top\">Southhampton</th>\n",
       "      <th>Dead</th>\n",
       "      <td>2.0</td>\n",
       "      <td>13.500000</td>\n",
       "      <td>16.263456</td>\n",
       "      <td>2.000000</td>\n",
       "      <td>7.750000</td>\n",
       "      <td>13.500000</td>\n",
       "      <td>19.250000</td>\n",
       "      <td>25.000000</td>\n",
       "    </tr>\n",
       "    <tr>\n",
       "      <th>Survived</th>\n",
       "      <td>46.0</td>\n",
       "      <td>33.278184</td>\n",
       "      <td>12.706974</td>\n",
       "      <td>14.000000</td>\n",
       "      <td>22.250000</td>\n",
       "      <td>32.000000</td>\n",
       "      <td>39.750000</td>\n",
       "      <td>63.000000</td>\n",
       "    </tr>\n",
       "    <tr>\n",
       "      <th rowspan=\"4\" valign=\"top\">2nd Class</th>\n",
       "      <th>Cherbourg</th>\n",
       "      <th>Survived</th>\n",
       "      <td>7.0</td>\n",
       "      <td>19.142857</td>\n",
       "      <td>8.706866</td>\n",
       "      <td>3.000000</td>\n",
       "      <td>15.500000</td>\n",
       "      <td>22.000000</td>\n",
       "      <td>25.000000</td>\n",
       "      <td>28.000000</td>\n",
       "    </tr>\n",
       "    <tr>\n",
       "      <th>Queenstown</th>\n",
       "      <th>Survived</th>\n",
       "      <td>2.0</td>\n",
       "      <td>29.849559</td>\n",
       "      <td>0.212756</td>\n",
       "      <td>29.699118</td>\n",
       "      <td>29.774338</td>\n",
       "      <td>29.849559</td>\n",
       "      <td>29.924779</td>\n",
       "      <td>30.000000</td>\n",
       "    </tr>\n",
       "    <tr>\n",
       "      <th rowspan=\"2\" valign=\"top\">Southhampton</th>\n",
       "      <th>Dead</th>\n",
       "      <td>6.0</td>\n",
       "      <td>36.000000</td>\n",
       "      <td>12.915107</td>\n",
       "      <td>24.000000</td>\n",
       "      <td>26.250000</td>\n",
       "      <td>32.500000</td>\n",
       "      <td>42.500000</td>\n",
       "      <td>57.000000</td>\n",
       "    </tr>\n",
       "    <tr>\n",
       "      <th>Survived</th>\n",
       "      <td>61.0</td>\n",
       "      <td>29.101625</td>\n",
       "      <td>12.805018</td>\n",
       "      <td>2.000000</td>\n",
       "      <td>24.000000</td>\n",
       "      <td>29.000000</td>\n",
       "      <td>36.000000</td>\n",
       "      <td>55.000000</td>\n",
       "    </tr>\n",
       "    <tr>\n",
       "      <th rowspan=\"6\" valign=\"top\">3rd Class</th>\n",
       "      <th rowspan=\"2\" valign=\"top\">Cherbourg</th>\n",
       "      <th>Dead</th>\n",
       "      <td>8.0</td>\n",
       "      <td>24.074669</td>\n",
       "      <td>11.579818</td>\n",
       "      <td>9.000000</td>\n",
       "      <td>16.375000</td>\n",
       "      <td>23.849559</td>\n",
       "      <td>29.699118</td>\n",
       "      <td>45.000000</td>\n",
       "    </tr>\n",
       "    <tr>\n",
       "      <th>Survived</th>\n",
       "      <td>15.0</td>\n",
       "      <td>16.019765</td>\n",
       "      <td>11.813378</td>\n",
       "      <td>0.750000</td>\n",
       "      <td>4.500000</td>\n",
       "      <td>15.000000</td>\n",
       "      <td>29.349559</td>\n",
       "      <td>29.699118</td>\n",
       "    </tr>\n",
       "    <tr>\n",
       "      <th rowspan=\"2\" valign=\"top\">Queenstown</th>\n",
       "      <th>Dead</th>\n",
       "      <td>9.0</td>\n",
       "      <td>28.810719</td>\n",
       "      <td>6.102076</td>\n",
       "      <td>18.000000</td>\n",
       "      <td>29.699118</td>\n",
       "      <td>29.699118</td>\n",
       "      <td>30.500000</td>\n",
       "      <td>39.000000</td>\n",
       "    </tr>\n",
       "    <tr>\n",
       "      <th>Survived</th>\n",
       "      <td>24.0</td>\n",
       "      <td>27.178468</td>\n",
       "      <td>5.161122</td>\n",
       "      <td>15.000000</td>\n",
       "      <td>29.699118</td>\n",
       "      <td>29.699118</td>\n",
       "      <td>29.699118</td>\n",
       "      <td>29.699118</td>\n",
       "    </tr>\n",
       "    <tr>\n",
       "      <th rowspan=\"2\" valign=\"top\">Southhampton</th>\n",
       "      <th>Dead</th>\n",
       "      <td>55.0</td>\n",
       "      <td>24.781658</td>\n",
       "      <td>12.148156</td>\n",
       "      <td>2.000000</td>\n",
       "      <td>18.000000</td>\n",
       "      <td>28.000000</td>\n",
       "      <td>29.849559</td>\n",
       "      <td>48.000000</td>\n",
       "    </tr>\n",
       "    <tr>\n",
       "      <th>Survived</th>\n",
       "      <td>33.0</td>\n",
       "      <td>22.981765</td>\n",
       "      <td>12.502182</td>\n",
       "      <td>1.000000</td>\n",
       "      <td>18.000000</td>\n",
       "      <td>24.000000</td>\n",
       "      <td>29.699118</td>\n",
       "      <td>63.000000</td>\n",
       "    </tr>\n",
       "    <tr>\n",
       "      <th rowspan=\"16\" valign=\"top\">male</th>\n",
       "      <th rowspan=\"5\" valign=\"top\">1st Class</th>\n",
       "      <th rowspan=\"2\" valign=\"top\">Cherbourg</th>\n",
       "      <th>Dead</th>\n",
       "      <td>25.0</td>\n",
       "      <td>40.379824</td>\n",
       "      <td>15.908507</td>\n",
       "      <td>18.000000</td>\n",
       "      <td>29.699118</td>\n",
       "      <td>36.000000</td>\n",
       "      <td>51.000000</td>\n",
       "      <td>71.000000</td>\n",
       "    </tr>\n",
       "    <tr>\n",
       "      <th>Survived</th>\n",
       "      <td>17.0</td>\n",
       "      <td>36.041125</td>\n",
       "      <td>12.461622</td>\n",
       "      <td>17.000000</td>\n",
       "      <td>26.000000</td>\n",
       "      <td>35.000000</td>\n",
       "      <td>48.000000</td>\n",
       "      <td>60.000000</td>\n",
       "    </tr>\n",
       "    <tr>\n",
       "      <th>Queenstown</th>\n",
       "      <th>Dead</th>\n",
       "      <td>1.0</td>\n",
       "      <td>44.000000</td>\n",
       "      <td>NaN</td>\n",
       "      <td>44.000000</td>\n",
       "      <td>44.000000</td>\n",
       "      <td>44.000000</td>\n",
       "      <td>44.000000</td>\n",
       "      <td>44.000000</td>\n",
       "    </tr>\n",
       "    <tr>\n",
       "      <th rowspan=\"2\" valign=\"top\">Southhampton</th>\n",
       "      <th>Dead</th>\n",
       "      <td>51.0</td>\n",
       "      <td>41.984123</td>\n",
       "      <td>13.583568</td>\n",
       "      <td>19.000000</td>\n",
       "      <td>29.699118</td>\n",
       "      <td>40.000000</td>\n",
       "      <td>53.000000</td>\n",
       "      <td>70.000000</td>\n",
       "    </tr>\n",
       "    <tr>\n",
       "      <th>Survived</th>\n",
       "      <td>28.0</td>\n",
       "      <td>35.204160</td>\n",
       "      <td>15.395618</td>\n",
       "      <td>0.920000</td>\n",
       "      <td>29.274338</td>\n",
       "      <td>35.500000</td>\n",
       "      <td>42.750000</td>\n",
       "      <td>80.000000</td>\n",
       "    </tr>\n",
       "    <tr>\n",
       "      <th rowspan=\"5\" valign=\"top\">2nd Class</th>\n",
       "      <th rowspan=\"2\" valign=\"top\">Cherbourg</th>\n",
       "      <th>Dead</th>\n",
       "      <td>8.0</td>\n",
       "      <td>29.524890</td>\n",
       "      <td>4.080173</td>\n",
       "      <td>23.000000</td>\n",
       "      <td>28.000000</td>\n",
       "      <td>29.849559</td>\n",
       "      <td>31.375000</td>\n",
       "      <td>36.000000</td>\n",
       "    </tr>\n",
       "    <tr>\n",
       "      <th>Survived</th>\n",
       "      <td>2.0</td>\n",
       "      <td>15.349559</td>\n",
       "      <td>20.293341</td>\n",
       "      <td>1.000000</td>\n",
       "      <td>8.174779</td>\n",
       "      <td>15.349559</td>\n",
       "      <td>22.524338</td>\n",
       "      <td>29.699118</td>\n",
       "    </tr>\n",
       "    <tr>\n",
       "      <th>Queenstown</th>\n",
       "      <th>Dead</th>\n",
       "      <td>1.0</td>\n",
       "      <td>57.000000</td>\n",
       "      <td>NaN</td>\n",
       "      <td>57.000000</td>\n",
       "      <td>57.000000</td>\n",
       "      <td>57.000000</td>\n",
       "      <td>57.000000</td>\n",
       "      <td>57.000000</td>\n",
       "    </tr>\n",
       "    <tr>\n",
       "      <th rowspan=\"2\" valign=\"top\">Southhampton</th>\n",
       "      <th>Dead</th>\n",
       "      <td>82.0</td>\n",
       "      <td>33.142618</td>\n",
       "      <td>11.949460</td>\n",
       "      <td>16.000000</td>\n",
       "      <td>25.000000</td>\n",
       "      <td>30.000000</td>\n",
       "      <td>38.500000</td>\n",
       "      <td>70.000000</td>\n",
       "    </tr>\n",
       "    <tr>\n",
       "      <th>Survived</th>\n",
       "      <td>15.0</td>\n",
       "      <td>17.935275</td>\n",
       "      <td>19.375524</td>\n",
       "      <td>0.670000</td>\n",
       "      <td>1.500000</td>\n",
       "      <td>8.000000</td>\n",
       "      <td>31.500000</td>\n",
       "      <td>62.000000</td>\n",
       "    </tr>\n",
       "    <tr>\n",
       "      <th rowspan=\"6\" valign=\"top\">3rd Class</th>\n",
       "      <th rowspan=\"2\" valign=\"top\">Cherbourg</th>\n",
       "      <th>Dead</th>\n",
       "      <td>33.0</td>\n",
       "      <td>28.529902</td>\n",
       "      <td>6.488063</td>\n",
       "      <td>11.000000</td>\n",
       "      <td>27.000000</td>\n",
       "      <td>29.699118</td>\n",
       "      <td>29.699118</td>\n",
       "      <td>45.500000</td>\n",
       "    </tr>\n",
       "    <tr>\n",
       "      <th>Survived</th>\n",
       "      <td>10.0</td>\n",
       "      <td>21.851735</td>\n",
       "      <td>9.523689</td>\n",
       "      <td>0.420000</td>\n",
       "      <td>20.000000</td>\n",
       "      <td>24.000000</td>\n",
       "      <td>29.524338</td>\n",
       "      <td>29.699118</td>\n",
       "    </tr>\n",
       "    <tr>\n",
       "      <th rowspan=\"2\" valign=\"top\">Queenstown</th>\n",
       "      <th>Dead</th>\n",
       "      <td>36.0</td>\n",
       "      <td>29.113325</td>\n",
       "      <td>12.822167</td>\n",
       "      <td>2.000000</td>\n",
       "      <td>29.699118</td>\n",
       "      <td>29.699118</td>\n",
       "      <td>29.699118</td>\n",
       "      <td>70.500000</td>\n",
       "    </tr>\n",
       "    <tr>\n",
       "      <th>Survived</th>\n",
       "      <td>3.0</td>\n",
       "      <td>29.466078</td>\n",
       "      <td>0.403636</td>\n",
       "      <td>29.000000</td>\n",
       "      <td>29.349559</td>\n",
       "      <td>29.699118</td>\n",
       "      <td>29.699118</td>\n",
       "      <td>29.699118</td>\n",
       "    </tr>\n",
       "    <tr>\n",
       "      <th rowspan=\"2\" valign=\"top\">Southhampton</th>\n",
       "      <th>Dead</th>\n",
       "      <td>231.0</td>\n",
       "      <td>27.683370</td>\n",
       "      <td>10.363613</td>\n",
       "      <td>1.000000</td>\n",
       "      <td>21.000000</td>\n",
       "      <td>29.000000</td>\n",
       "      <td>30.750000</td>\n",
       "      <td>74.000000</td>\n",
       "    </tr>\n",
       "    <tr>\n",
       "      <th>Survived</th>\n",
       "      <td>34.0</td>\n",
       "      <td>23.729308</td>\n",
       "      <td>11.535753</td>\n",
       "      <td>1.000000</td>\n",
       "      <td>18.250000</td>\n",
       "      <td>27.000000</td>\n",
       "      <td>30.750000</td>\n",
       "      <td>45.000000</td>\n",
       "    </tr>\n",
       "  </tbody>\n",
       "</table>\n",
       "</div>"
      ],
      "text/plain": [
       "                                        count       mean        std  \\\n",
       "Sex    Class     Embarked     Survival                                \n",
       "female 1st Class Cherbourg    Dead        1.0  50.000000        NaN   \n",
       "                              Survived   42.0  34.964181  12.367782   \n",
       "                 Queenstown   Survived    1.0  33.000000        NaN   \n",
       "                 Southhampton Dead        2.0  13.500000  16.263456   \n",
       "                              Survived   46.0  33.278184  12.706974   \n",
       "       2nd Class Cherbourg    Survived    7.0  19.142857   8.706866   \n",
       "                 Queenstown   Survived    2.0  29.849559   0.212756   \n",
       "                 Southhampton Dead        6.0  36.000000  12.915107   \n",
       "                              Survived   61.0  29.101625  12.805018   \n",
       "       3rd Class Cherbourg    Dead        8.0  24.074669  11.579818   \n",
       "                              Survived   15.0  16.019765  11.813378   \n",
       "                 Queenstown   Dead        9.0  28.810719   6.102076   \n",
       "                              Survived   24.0  27.178468   5.161122   \n",
       "                 Southhampton Dead       55.0  24.781658  12.148156   \n",
       "                              Survived   33.0  22.981765  12.502182   \n",
       "male   1st Class Cherbourg    Dead       25.0  40.379824  15.908507   \n",
       "                              Survived   17.0  36.041125  12.461622   \n",
       "                 Queenstown   Dead        1.0  44.000000        NaN   \n",
       "                 Southhampton Dead       51.0  41.984123  13.583568   \n",
       "                              Survived   28.0  35.204160  15.395618   \n",
       "       2nd Class Cherbourg    Dead        8.0  29.524890   4.080173   \n",
       "                              Survived    2.0  15.349559  20.293341   \n",
       "                 Queenstown   Dead        1.0  57.000000        NaN   \n",
       "                 Southhampton Dead       82.0  33.142618  11.949460   \n",
       "                              Survived   15.0  17.935275  19.375524   \n",
       "       3rd Class Cherbourg    Dead       33.0  28.529902   6.488063   \n",
       "                              Survived   10.0  21.851735   9.523689   \n",
       "                 Queenstown   Dead       36.0  29.113325  12.822167   \n",
       "                              Survived    3.0  29.466078   0.403636   \n",
       "                 Southhampton Dead      231.0  27.683370  10.363613   \n",
       "                              Survived   34.0  23.729308  11.535753   \n",
       "\n",
       "                                              min        25%        50%  \\\n",
       "Sex    Class     Embarked     Survival                                    \n",
       "female 1st Class Cherbourg    Dead      50.000000  50.000000  50.000000   \n",
       "                              Survived  16.000000  24.000000  31.500000   \n",
       "                 Queenstown   Survived  33.000000  33.000000  33.000000   \n",
       "                 Southhampton Dead       2.000000   7.750000  13.500000   \n",
       "                              Survived  14.000000  22.250000  32.000000   \n",
       "       2nd Class Cherbourg    Survived   3.000000  15.500000  22.000000   \n",
       "                 Queenstown   Survived  29.699118  29.774338  29.849559   \n",
       "                 Southhampton Dead      24.000000  26.250000  32.500000   \n",
       "                              Survived   2.000000  24.000000  29.000000   \n",
       "       3rd Class Cherbourg    Dead       9.000000  16.375000  23.849559   \n",
       "                              Survived   0.750000   4.500000  15.000000   \n",
       "                 Queenstown   Dead      18.000000  29.699118  29.699118   \n",
       "                              Survived  15.000000  29.699118  29.699118   \n",
       "                 Southhampton Dead       2.000000  18.000000  28.000000   \n",
       "                              Survived   1.000000  18.000000  24.000000   \n",
       "male   1st Class Cherbourg    Dead      18.000000  29.699118  36.000000   \n",
       "                              Survived  17.000000  26.000000  35.000000   \n",
       "                 Queenstown   Dead      44.000000  44.000000  44.000000   \n",
       "                 Southhampton Dead      19.000000  29.699118  40.000000   \n",
       "                              Survived   0.920000  29.274338  35.500000   \n",
       "       2nd Class Cherbourg    Dead      23.000000  28.000000  29.849559   \n",
       "                              Survived   1.000000   8.174779  15.349559   \n",
       "                 Queenstown   Dead      57.000000  57.000000  57.000000   \n",
       "                 Southhampton Dead      16.000000  25.000000  30.000000   \n",
       "                              Survived   0.670000   1.500000   8.000000   \n",
       "       3rd Class Cherbourg    Dead      11.000000  27.000000  29.699118   \n",
       "                              Survived   0.420000  20.000000  24.000000   \n",
       "                 Queenstown   Dead       2.000000  29.699118  29.699118   \n",
       "                              Survived  29.000000  29.349559  29.699118   \n",
       "                 Southhampton Dead       1.000000  21.000000  29.000000   \n",
       "                              Survived   1.000000  18.250000  27.000000   \n",
       "\n",
       "                                              75%        max  \n",
       "Sex    Class     Embarked     Survival                        \n",
       "female 1st Class Cherbourg    Dead      50.000000  50.000000  \n",
       "                              Survived  43.500000  60.000000  \n",
       "                 Queenstown   Survived  33.000000  33.000000  \n",
       "                 Southhampton Dead      19.250000  25.000000  \n",
       "                              Survived  39.750000  63.000000  \n",
       "       2nd Class Cherbourg    Survived  25.000000  28.000000  \n",
       "                 Queenstown   Survived  29.924779  30.000000  \n",
       "                 Southhampton Dead      42.500000  57.000000  \n",
       "                              Survived  36.000000  55.000000  \n",
       "       3rd Class Cherbourg    Dead      29.699118  45.000000  \n",
       "                              Survived  29.349559  29.699118  \n",
       "                 Queenstown   Dead      30.500000  39.000000  \n",
       "                              Survived  29.699118  29.699118  \n",
       "                 Southhampton Dead      29.849559  48.000000  \n",
       "                              Survived  29.699118  63.000000  \n",
       "male   1st Class Cherbourg    Dead      51.000000  71.000000  \n",
       "                              Survived  48.000000  60.000000  \n",
       "                 Queenstown   Dead      44.000000  44.000000  \n",
       "                 Southhampton Dead      53.000000  70.000000  \n",
       "                              Survived  42.750000  80.000000  \n",
       "       2nd Class Cherbourg    Dead      31.375000  36.000000  \n",
       "                              Survived  22.524338  29.699118  \n",
       "                 Queenstown   Dead      57.000000  57.000000  \n",
       "                 Southhampton Dead      38.500000  70.000000  \n",
       "                              Survived  31.500000  62.000000  \n",
       "       3rd Class Cherbourg    Dead      29.699118  45.500000  \n",
       "                              Survived  29.524338  29.699118  \n",
       "                 Queenstown   Dead      29.699118  70.500000  \n",
       "                              Survived  29.699118  29.699118  \n",
       "                 Southhampton Dead      30.750000  74.000000  \n",
       "                              Survived  30.750000  45.000000  "
      ]
     },
     "execution_count": 303,
     "metadata": {},
     "output_type": "execute_result"
    }
   ],
   "source": [
    "df = titanic.groupby(['Sex','Class', 'Embarked', 'Survival' ])['Age'].describe()\n",
    "df"
   ]
  },
  {
   "cell_type": "code",
   "execution_count": 304,
   "metadata": {},
   "outputs": [
    {
     "data": {
      "text/plain": [
       "<AxesSubplot:xlabel='Embarked', ylabel='count'>"
      ]
     },
     "execution_count": 304,
     "metadata": {},
     "output_type": "execute_result"
    },
    {
     "data": {
      "image/png": "[encoded data removed]",
      "text/plain": [
       "<Figure size 432x288 with 1 Axes>"
      ]
     },
     "metadata": {
      "needs_background": "light"
     },
     "output_type": "display_data"
    }
   ],
   "source": [
    "sns.lineplot(x='Embarked', y='count', hue='Survival', data = df, style = 'Sex', markers = True)"
   ]
  },
  {
   "cell_type": "code",
   "execution_count": 305,
   "metadata": {},
   "outputs": [],
   "source": [
    "# Passengers belonging to southhampton has highest male count (from data 231 male passengers)\n",
    "# and hence the number of passengers died are more from southhampton only."
   ]
  },
  {
   "cell_type": "code",
   "execution_count": 306,
   "metadata": {},
   "outputs": [
    {
     "data": {
      "text/plain": [
       "<AxesSubplot:xlabel='Class', ylabel='count'>"
      ]
     },
     "execution_count": 306,
     "metadata": {},
     "output_type": "execute_result"
    },
    {
     "data": {
      "image/png": "[encoded data removed]",
      "text/plain": [
       "<Figure size 432x288 with 1 Axes>"
      ]
     },
     "metadata": {
      "needs_background": "light"
     },
     "output_type": "display_data"
    }
   ],
   "source": [
    "sns.lineplot(x='Class', y='count', hue='Survival', data = df, style = 'Sex')"
   ]
  },
  {
   "cell_type": "code",
   "execution_count": 307,
   "metadata": {},
   "outputs": [
    {
     "data": {
      "text/html": [
       "<div>\n",
       "<style scoped>\n",
       "    .dataframe tbody tr th:only-of-type {\n",
       "        vertical-align: middle;\n",
       "    }\n",
       "\n",
       "    .dataframe tbody tr th {\n",
       "        vertical-align: top;\n",
       "    }\n",
       "\n",
       "    .dataframe thead th {\n",
       "        text-align: right;\n",
       "    }\n",
       "</style>\n",
       "<table border=\"1\" class=\"dataframe\">\n",
       "  <thead>\n",
       "    <tr style=\"text-align: right;\">\n",
       "      <th></th>\n",
       "      <th>PassengerId</th>\n",
       "      <th>Sex</th>\n",
       "      <th>Age</th>\n",
       "      <th>Fare</th>\n",
       "      <th>Embarked</th>\n",
       "      <th>Survival</th>\n",
       "      <th>Class</th>\n",
       "      <th>AgeGroup</th>\n",
       "    </tr>\n",
       "  </thead>\n",
       "  <tbody>\n",
       "    <tr>\n",
       "      <th>0</th>\n",
       "      <td>1</td>\n",
       "      <td>male</td>\n",
       "      <td>22.0</td>\n",
       "      <td>7.2500</td>\n",
       "      <td>Southhampton</td>\n",
       "      <td>Dead</td>\n",
       "      <td>3rd Class</td>\n",
       "      <td>Young</td>\n",
       "    </tr>\n",
       "    <tr>\n",
       "      <th>1</th>\n",
       "      <td>2</td>\n",
       "      <td>female</td>\n",
       "      <td>38.0</td>\n",
       "      <td>71.2833</td>\n",
       "      <td>Cherbourg</td>\n",
       "      <td>Survived</td>\n",
       "      <td>1st Class</td>\n",
       "      <td>Young</td>\n",
       "    </tr>\n",
       "    <tr>\n",
       "      <th>2</th>\n",
       "      <td>3</td>\n",
       "      <td>female</td>\n",
       "      <td>26.0</td>\n",
       "      <td>7.9250</td>\n",
       "      <td>Southhampton</td>\n",
       "      <td>Survived</td>\n",
       "      <td>3rd Class</td>\n",
       "      <td>Young</td>\n",
       "    </tr>\n",
       "    <tr>\n",
       "      <th>3</th>\n",
       "      <td>4</td>\n",
       "      <td>female</td>\n",
       "      <td>35.0</td>\n",
       "      <td>53.1000</td>\n",
       "      <td>Southhampton</td>\n",
       "      <td>Survived</td>\n",
       "      <td>1st Class</td>\n",
       "      <td>Young</td>\n",
       "    </tr>\n",
       "    <tr>\n",
       "      <th>4</th>\n",
       "      <td>5</td>\n",
       "      <td>male</td>\n",
       "      <td>35.0</td>\n",
       "      <td>8.0500</td>\n",
       "      <td>Southhampton</td>\n",
       "      <td>Dead</td>\n",
       "      <td>3rd Class</td>\n",
       "      <td>Young</td>\n",
       "    </tr>\n",
       "  </tbody>\n",
       "</table>\n",
       "</div>"
      ],
      "text/plain": [
       "   PassengerId     Sex   Age     Fare      Embarked  Survival      Class  \\\n",
       "0            1    male  22.0   7.2500  Southhampton      Dead  3rd Class   \n",
       "1            2  female  38.0  71.2833     Cherbourg  Survived  1st Class   \n",
       "2            3  female  26.0   7.9250  Southhampton  Survived  3rd Class   \n",
       "3            4  female  35.0  53.1000  Southhampton  Survived  1st Class   \n",
       "4            5    male  35.0   8.0500  Southhampton      Dead  3rd Class   \n",
       "\n",
       "  AgeGroup  \n",
       "0    Young  \n",
       "1    Young  \n",
       "2    Young  \n",
       "3    Young  \n",
       "4    Young  "
      ]
     },
     "execution_count": 307,
     "metadata": {},
     "output_type": "execute_result"
    }
   ],
   "source": [
    "titanic.head()"
   ]
  },
  {
   "cell_type": "code",
   "execution_count": 317,
   "metadata": {},
   "outputs": [
    {
     "data": {
      "text/html": [
       "<div>\n",
       "<style scoped>\n",
       "    .dataframe tbody tr th:only-of-type {\n",
       "        vertical-align: middle;\n",
       "    }\n",
       "\n",
       "    .dataframe tbody tr th {\n",
       "        vertical-align: top;\n",
       "    }\n",
       "\n",
       "    .dataframe thead th {\n",
       "        text-align: right;\n",
       "    }\n",
       "</style>\n",
       "<table border=\"1\" class=\"dataframe\">\n",
       "  <thead>\n",
       "    <tr style=\"text-align: right;\">\n",
       "      <th></th>\n",
       "      <th></th>\n",
       "      <th></th>\n",
       "      <th>count</th>\n",
       "      <th>mean</th>\n",
       "      <th>std</th>\n",
       "      <th>min</th>\n",
       "      <th>25%</th>\n",
       "      <th>50%</th>\n",
       "      <th>75%</th>\n",
       "      <th>max</th>\n",
       "    </tr>\n",
       "    <tr>\n",
       "      <th>Embarked</th>\n",
       "      <th>Class</th>\n",
       "      <th>Survival</th>\n",
       "      <th></th>\n",
       "      <th></th>\n",
       "      <th></th>\n",
       "      <th></th>\n",
       "      <th></th>\n",
       "      <th></th>\n",
       "      <th></th>\n",
       "      <th></th>\n",
       "    </tr>\n",
       "  </thead>\n",
       "  <tbody>\n",
       "    <tr>\n",
       "      <th rowspan=\"6\" valign=\"top\">Cherbourg</th>\n",
       "      <th rowspan=\"2\" valign=\"top\">1st Class</th>\n",
       "      <th>Dead</th>\n",
       "      <td>26.0</td>\n",
       "      <td>78.841981</td>\n",
       "      <td>64.541917</td>\n",
       "      <td>27.7208</td>\n",
       "      <td>29.94895</td>\n",
       "      <td>55.4417</td>\n",
       "      <td>108.28125</td>\n",
       "      <td>247.5208</td>\n",
       "    </tr>\n",
       "    <tr>\n",
       "      <th>Survived</th>\n",
       "      <td>59.0</td>\n",
       "      <td>116.121754</td>\n",
       "      <td>109.514928</td>\n",
       "      <td>26.5500</td>\n",
       "      <td>57.97920</td>\n",
       "      <td>79.2000</td>\n",
       "      <td>113.27500</td>\n",
       "      <td>512.3292</td>\n",
       "    </tr>\n",
       "    <tr>\n",
       "      <th rowspan=\"2\" valign=\"top\">2nd Class</th>\n",
       "      <th>Dead</th>\n",
       "      <td>8.0</td>\n",
       "      <td>25.418225</td>\n",
       "      <td>10.668990</td>\n",
       "      <td>12.8750</td>\n",
       "      <td>15.04895</td>\n",
       "      <td>25.8604</td>\n",
       "      <td>31.80415</td>\n",
       "      <td>41.5792</td>\n",
       "    </tr>\n",
       "    <tr>\n",
       "      <th>Survived</th>\n",
       "      <td>9.0</td>\n",
       "      <td>25.305100</td>\n",
       "      <td>12.562460</td>\n",
       "      <td>12.0000</td>\n",
       "      <td>13.85830</td>\n",
       "      <td>24.0000</td>\n",
       "      <td>37.00420</td>\n",
       "      <td>41.5792</td>\n",
       "    </tr>\n",
       "    <tr>\n",
       "      <th rowspan=\"2\" valign=\"top\">3rd Class</th>\n",
       "      <th>Dead</th>\n",
       "      <td>41.0</td>\n",
       "      <td>9.878361</td>\n",
       "      <td>4.093219</td>\n",
       "      <td>4.0125</td>\n",
       "      <td>7.22500</td>\n",
       "      <td>7.2292</td>\n",
       "      <td>14.45420</td>\n",
       "      <td>21.6792</td>\n",
       "    </tr>\n",
       "    <tr>\n",
       "      <th>Survived</th>\n",
       "      <td>25.0</td>\n",
       "      <td>13.404668</td>\n",
       "      <td>5.320055</td>\n",
       "      <td>7.2250</td>\n",
       "      <td>7.22920</td>\n",
       "      <td>14.4542</td>\n",
       "      <td>18.78750</td>\n",
       "      <td>22.3583</td>\n",
       "    </tr>\n",
       "    <tr>\n",
       "      <th rowspan=\"6\" valign=\"top\">Queenstown</th>\n",
       "      <th rowspan=\"2\" valign=\"top\">1st Class</th>\n",
       "      <th>Dead</th>\n",
       "      <td>1.0</td>\n",
       "      <td>90.000000</td>\n",
       "      <td>NaN</td>\n",
       "      <td>90.0000</td>\n",
       "      <td>90.00000</td>\n",
       "      <td>90.0000</td>\n",
       "      <td>90.00000</td>\n",
       "      <td>90.0000</td>\n",
       "    </tr>\n",
       "    <tr>\n",
       "      <th>Survived</th>\n",
       "      <td>1.0</td>\n",
       "      <td>90.000000</td>\n",
       "      <td>NaN</td>\n",
       "      <td>90.0000</td>\n",
       "      <td>90.00000</td>\n",
       "      <td>90.0000</td>\n",
       "      <td>90.00000</td>\n",
       "      <td>90.0000</td>\n",
       "    </tr>\n",
       "    <tr>\n",
       "      <th rowspan=\"2\" valign=\"top\">2nd Class</th>\n",
       "      <th>Dead</th>\n",
       "      <td>1.0</td>\n",
       "      <td>12.350000</td>\n",
       "      <td>NaN</td>\n",
       "      <td>12.3500</td>\n",
       "      <td>12.35000</td>\n",
       "      <td>12.3500</td>\n",
       "      <td>12.35000</td>\n",
       "      <td>12.3500</td>\n",
       "    </tr>\n",
       "    <tr>\n",
       "      <th>Survived</th>\n",
       "      <td>2.0</td>\n",
       "      <td>12.350000</td>\n",
       "      <td>0.000000</td>\n",
       "      <td>12.3500</td>\n",
       "      <td>12.35000</td>\n",
       "      <td>12.3500</td>\n",
       "      <td>12.35000</td>\n",
       "      <td>12.3500</td>\n",
       "    </tr>\n",
       "    <tr>\n",
       "      <th rowspan=\"2\" valign=\"top\">3rd Class</th>\n",
       "      <th>Dead</th>\n",
       "      <td>45.0</td>\n",
       "      <td>11.654167</td>\n",
       "      <td>7.448127</td>\n",
       "      <td>6.7500</td>\n",
       "      <td>7.75000</td>\n",
       "      <td>7.7500</td>\n",
       "      <td>15.50000</td>\n",
       "      <td>29.1250</td>\n",
       "    </tr>\n",
       "    <tr>\n",
       "      <th>Survived</th>\n",
       "      <td>27.0</td>\n",
       "      <td>10.398770</td>\n",
       "      <td>5.336266</td>\n",
       "      <td>7.7333</td>\n",
       "      <td>7.75000</td>\n",
       "      <td>7.7500</td>\n",
       "      <td>7.95420</td>\n",
       "      <td>24.1500</td>\n",
       "    </tr>\n",
       "    <tr>\n",
       "      <th rowspan=\"6\" valign=\"top\">Southhampton</th>\n",
       "      <th rowspan=\"2\" valign=\"top\">1st Class</th>\n",
       "      <th>Dead</th>\n",
       "      <td>53.0</td>\n",
       "      <td>57.260926</td>\n",
       "      <td>58.473662</td>\n",
       "      <td>0.0000</td>\n",
       "      <td>26.55000</td>\n",
       "      <td>38.5000</td>\n",
       "      <td>61.17500</td>\n",
       "      <td>263.0000</td>\n",
       "    </tr>\n",
       "    <tr>\n",
       "      <th>Survived</th>\n",
       "      <td>74.0</td>\n",
       "      <td>79.750114</td>\n",
       "      <td>57.622869</td>\n",
       "      <td>25.9292</td>\n",
       "      <td>30.50000</td>\n",
       "      <td>56.4500</td>\n",
       "      <td>93.50000</td>\n",
       "      <td>263.0000</td>\n",
       "    </tr>\n",
       "    <tr>\n",
       "      <th rowspan=\"2\" valign=\"top\">2nd Class</th>\n",
       "      <th>Dead</th>\n",
       "      <td>88.0</td>\n",
       "      <td>18.946591</td>\n",
       "      <td>15.661432</td>\n",
       "      <td>0.0000</td>\n",
       "      <td>11.50000</td>\n",
       "      <td>13.0000</td>\n",
       "      <td>26.00000</td>\n",
       "      <td>73.5000</td>\n",
       "    </tr>\n",
       "    <tr>\n",
       "      <th>Survived</th>\n",
       "      <td>76.0</td>\n",
       "      <td>21.926316</td>\n",
       "      <td>10.697942</td>\n",
       "      <td>10.5000</td>\n",
       "      <td>13.00000</td>\n",
       "      <td>22.0000</td>\n",
       "      <td>26.06250</td>\n",
       "      <td>65.0000</td>\n",
       "    </tr>\n",
       "    <tr>\n",
       "      <th rowspan=\"2\" valign=\"top\">3rd Class</th>\n",
       "      <th>Dead</th>\n",
       "      <td>286.0</td>\n",
       "      <td>14.529906</td>\n",
       "      <td>13.296621</td>\n",
       "      <td>0.0000</td>\n",
       "      <td>7.85420</td>\n",
       "      <td>8.0500</td>\n",
       "      <td>16.10000</td>\n",
       "      <td>69.5500</td>\n",
       "    </tr>\n",
       "    <tr>\n",
       "      <th>Survived</th>\n",
       "      <td>67.0</td>\n",
       "      <td>15.131464</td>\n",
       "      <td>13.279499</td>\n",
       "      <td>0.0000</td>\n",
       "      <td>7.92500</td>\n",
       "      <td>9.5000</td>\n",
       "      <td>16.10000</td>\n",
       "      <td>56.4958</td>\n",
       "    </tr>\n",
       "  </tbody>\n",
       "</table>\n",
       "</div>"
      ],
      "text/plain": [
       "                                 count        mean         std      min  \\\n",
       "Embarked     Class     Survival                                           \n",
       "Cherbourg    1st Class Dead       26.0   78.841981   64.541917  27.7208   \n",
       "                       Survived   59.0  116.121754  109.514928  26.5500   \n",
       "             2nd Class Dead        8.0   25.418225   10.668990  12.8750   \n",
       "                       Survived    9.0   25.305100   12.562460  12.0000   \n",
       "             3rd Class Dead       41.0    9.878361    4.093219   4.0125   \n",
       "                       Survived   25.0   13.404668    5.320055   7.2250   \n",
       "Queenstown   1st Class Dead        1.0   90.000000         NaN  90.0000   \n",
       "                       Survived    1.0   90.000000         NaN  90.0000   \n",
       "             2nd Class Dead        1.0   12.350000         NaN  12.3500   \n",
       "                       Survived    2.0   12.350000    0.000000  12.3500   \n",
       "             3rd Class Dead       45.0   11.654167    7.448127   6.7500   \n",
       "                       Survived   27.0   10.398770    5.336266   7.7333   \n",
       "Southhampton 1st Class Dead       53.0   57.260926   58.473662   0.0000   \n",
       "                       Survived   74.0   79.750114   57.622869  25.9292   \n",
       "             2nd Class Dead       88.0   18.946591   15.661432   0.0000   \n",
       "                       Survived   76.0   21.926316   10.697942  10.5000   \n",
       "             3rd Class Dead      286.0   14.529906   13.296621   0.0000   \n",
       "                       Survived   67.0   15.131464   13.279499   0.0000   \n",
       "\n",
       "                                      25%      50%        75%       max  \n",
       "Embarked     Class     Survival                                          \n",
       "Cherbourg    1st Class Dead      29.94895  55.4417  108.28125  247.5208  \n",
       "                       Survived  57.97920  79.2000  113.27500  512.3292  \n",
       "             2nd Class Dead      15.04895  25.8604   31.80415   41.5792  \n",
       "                       Survived  13.85830  24.0000   37.00420   41.5792  \n",
       "             3rd Class Dead       7.22500   7.2292   14.45420   21.6792  \n",
       "                       Survived   7.22920  14.4542   18.78750   22.3583  \n",
       "Queenstown   1st Class Dead      90.00000  90.0000   90.00000   90.0000  \n",
       "                       Survived  90.00000  90.0000   90.00000   90.0000  \n",
       "             2nd Class Dead      12.35000  12.3500   12.35000   12.3500  \n",
       "                       Survived  12.35000  12.3500   12.35000   12.3500  \n",
       "             3rd Class Dead       7.75000   7.7500   15.50000   29.1250  \n",
       "                       Survived   7.75000   7.7500    7.95420   24.1500  \n",
       "Southhampton 1st Class Dead      26.55000  38.5000   61.17500  263.0000  \n",
       "                       Survived  30.50000  56.4500   93.50000  263.0000  \n",
       "             2nd Class Dead      11.50000  13.0000   26.00000   73.5000  \n",
       "                       Survived  13.00000  22.0000   26.06250   65.0000  \n",
       "             3rd Class Dead       7.85420   8.0500   16.10000   69.5500  \n",
       "                       Survived   7.92500   9.5000   16.10000   56.4958  "
      ]
     },
     "execution_count": 317,
     "metadata": {},
     "output_type": "execute_result"
    }
   ],
   "source": [
    "df1 = titanic.groupby(['Embarked', 'Class', 'Survival'])['Fare'].describe()\n",
    "df1"
   ]
  },
  {
   "cell_type": "code",
   "execution_count": 318,
   "metadata": {},
   "outputs": [
    {
     "data": {
      "text/plain": [
       "<AxesSubplot:xlabel='Embarked', ylabel='count'>"
      ]
     },
     "execution_count": 318,
     "metadata": {},
     "output_type": "execute_result"
    },
    {
     "data": {
      "image/png": "[encoded data removed]",
      "text/plain": [
       "<Figure size 432x288 with 1 Axes>"
      ]
     },
     "metadata": {
      "needs_background": "light"
     },
     "output_type": "display_data"
    }
   ],
   "source": [
    "sns.lineplot(x='Embarked', y='count', data = df1, hue = 'Class', style = 'Survival')"
   ]
  },
  {
   "cell_type": "code",
   "execution_count": 324,
   "metadata": {},
   "outputs": [
    {
     "data": {
      "text/plain": [
       "<AxesSubplot:xlabel='Survival', ylabel='mean'>"
      ]
     },
     "execution_count": 324,
     "metadata": {},
     "output_type": "execute_result"
    },
    {
     "data": {
      "image/png": "[encoded data removed]",
      "text/plain": [
       "<Figure size 432x288 with 1 Axes>"
      ]
     },
     "metadata": {
      "needs_background": "light"
     },
     "output_type": "display_data"
    }
   ],
   "source": [
    "sns.lineplot(x= 'Survival', y ='mean', data = df1, hue = 'Embarked')"
   ]
  },
  {
   "cell_type": "markdown",
   "metadata": {},
   "source": [
    "# SOME CONCLUSIONS : \n"
   ]
  },
  {
   "cell_type": "code",
   "execution_count": null,
   "metadata": {},
   "outputs": [],
   "source": [
    "# Males belonging to the 3rd class has less than 15% prob of survival.\n",
    "# Males belonging to the 2nd class has approx 16% prob of survival.\n",
    "# Males belonging to the 1st class has approx 37 % prob of survival.\n",
    "\n",
    "# So all in all males Passengers had almost 25% probability of survival."
   ]
  },
  {
   "cell_type": "code",
   "execution_count": null,
   "metadata": {},
   "outputs": [],
   "source": [
    "# Females belonging to the 3rd class has approx 50% prob of survival.\n",
    "# Females belonging to the 2nd class has approx 92% prob of survival.\n",
    "# Females belonging to the 1st class has approx 96 % prob of survival.\n",
    "\n",
    "# So all in all female Passengers had almost 80% probability of survival. "
   ]
  },
  {
   "cell_type": "code",
   "execution_count": 116,
   "metadata": {},
   "outputs": [],
   "source": [
    "# This also lead us to the conclusion that while saving passengers using lifeboat Females were given\n",
    "# preference over males to access the lifeboat."
   ]
  },
  {
   "cell_type": "code",
   "execution_count": null,
   "metadata": {},
   "outputs": [],
   "source": [
    "# From above line plot we conclude that most of the 1st class Passengers were from Cherbourg.\n",
    "# most of the 2nd and 3rd class Passengers were from Southhampton.\n",
    "\n",
    "# The mean fare amount from southhampton is also less this means peoples with less fare amount\n",
    "# were given less preference to use the lifeboat hence mortality number from southhampton is more.\n",
    "\n",
    "# The mean fare amount from Cherbourg is more than other two ports and more from this we can conclude\n",
    "# that most of the passengers from Cherbourg were saved.\n"
   ]
  },
  {
   "cell_type": "code",
   "execution_count": null,
   "metadata": {},
   "outputs": [],
   "source": [
    "# So, while saving passengers in this disaster females and higher paying passengers were given more importance\n",
    "# than males and lower paying passengers."
   ]
  }
 ],
 "metadata": {
  "kernelspec": {
   "display_name": "Python 3",
   "language": "python",
   "name": "python3"
  },
  "language_info": {
   "codemirror_mode": {
    "name": "ipython",
    "version": 3
   },
   "file_extension": ".py",
   "mimetype": "text/x-python",
   "name": "python",
   "nbconvert_exporter": "python",
   "pygments_lexer": "ipython3",
   "version": "3.8.5"
  }
 },
 "nbformat": 4,
 "nbformat_minor": 4
}
